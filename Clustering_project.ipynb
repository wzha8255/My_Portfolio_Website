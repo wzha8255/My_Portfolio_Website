{
  "nbformat": 4,
  "nbformat_minor": 0,
  "metadata": {
    "colab": {
      "name": "Clustering_project.ipynb",
      "provenance": [],
      "collapsed_sections": []
    },
    "kernelspec": {
      "display_name": "Python 3",
      "name": "python3"
    }
  },
  "cells": [
    {
      "cell_type": "markdown",
      "metadata": {
        "id": "uHOuqG7PjhMp"
      },
      "source": [
        "# 1. Data set up\n"
      ]
    },
    {
      "cell_type": "markdown",
      "metadata": {
        "id": "u8BNaD9dkIVa"
      },
      "source": [
        "## 1.1 Load Data\n",
        "\n",
        "Please upload both datasets (any file format is ok) to your google drive, and load the datasets through google drive file id in your code. If you want to use Jupyter, please submit all the dataset in an additional zip file.\n",
        "\n",
        "\n"
      ]
    },
    {
      "cell_type": "code",
      "metadata": {
        "colab": {
          "base_uri": "https://localhost:8080/"
        },
        "id": "PjVkg2z0iZh3",
        "outputId": "9fcc4e87-b33c-4d7d-86ec-17512ed130df"
      },
      "source": [
        "!pip install scikit-learn-extra"
      ],
      "execution_count": null,
      "outputs": [
        {
          "output_type": "stream",
          "text": [
            "Collecting scikit-learn-extra\n",
            "\u001b[?25l  Downloading https://files.pythonhosted.org/packages/82/1e/79cd1a2b60a6cd6a7a9c4719f947e264ae391644adce3ddecf73afd5233d/scikit_learn_extra-0.2.0-cp37-cp37m-manylinux2010_x86_64.whl (1.7MB)\n",
            "\u001b[K     |████████████████████████████████| 1.7MB 2.9MB/s \n",
            "\u001b[?25hCollecting scikit-learn>=0.23.0\n",
            "\u001b[?25l  Downloading https://files.pythonhosted.org/packages/a8/eb/a48f25c967526b66d5f1fa7a984594f0bf0a5afafa94a8c4dbc317744620/scikit_learn-0.24.2-cp37-cp37m-manylinux2010_x86_64.whl (22.3MB)\n",
            "\u001b[K     |████████████████████████████████| 22.3MB 1.4MB/s \n",
            "\u001b[?25hRequirement already satisfied: scipy>=0.19.1 in /usr/local/lib/python3.7/dist-packages (from scikit-learn-extra) (1.4.1)\n",
            "Requirement already satisfied: numpy>=1.13.3 in /usr/local/lib/python3.7/dist-packages (from scikit-learn-extra) (1.19.5)\n",
            "Collecting threadpoolctl>=2.0.0\n",
            "  Downloading https://files.pythonhosted.org/packages/f7/12/ec3f2e203afa394a149911729357aa48affc59c20e2c1c8297a60f33f133/threadpoolctl-2.1.0-py3-none-any.whl\n",
            "Requirement already satisfied: joblib>=0.11 in /usr/local/lib/python3.7/dist-packages (from scikit-learn>=0.23.0->scikit-learn-extra) (1.0.1)\n",
            "Installing collected packages: threadpoolctl, scikit-learn, scikit-learn-extra\n",
            "  Found existing installation: scikit-learn 0.22.2.post1\n",
            "    Uninstalling scikit-learn-0.22.2.post1:\n",
            "      Successfully uninstalled scikit-learn-0.22.2.post1\n",
            "Successfully installed scikit-learn-0.24.2 scikit-learn-extra-0.2.0 threadpoolctl-2.1.0\n"
          ],
          "name": "stdout"
        }
      ]
    },
    {
      "cell_type": "code",
      "metadata": {
        "id": "umxN8KBTFTLx"
      },
      "source": [
        "import os\n",
        "import pickle\n",
        "%matplotlib inline\n",
        "import matplotlib as mpl\n",
        "import matplotlib.pyplot as plt\n",
        "import numpy as np\n",
        "import re\n",
        "import nltk\n",
        "from numpy import asarray\n",
        "from matplotlib.ticker import FixedLocator, FixedFormatter\n",
        "from nltk.corpus import stopwords\n",
        "from nltk.stem.snowball import SnowballStemmer\n",
        "from sklearn import metrics\n",
        "from skimage.filters import prewitt_h,prewitt_v\n",
        "import scipy.cluster.hierarchy as shc\n",
        "\n",
        "from sklearn.feature_extraction.text import TfidfVectorizer, HashingVectorizer\n",
        "from sklearn.feature_extraction.text import CountVectorizer\n",
        "from sklearn.preprocessing import MaxAbsScaler\n",
        "from sklearn.decomposition import PCA\n",
        "from sklearn.metrics import confusion_matrix\n",
        "from sklearn.metrics import silhouette_samples\n",
        "from sklearn.metrics import silhouette_score\n",
        "from sklearn.metrics.cluster import fowlkes_mallows_score\n",
        "from sklearn.metrics.pairwise import cosine_similarity\n",
        "from sklearn.cluster import KMeans\n",
        "from sklearn.cluster import DBSCAN\n",
        "from sklearn.cluster import AgglomerativeClustering\n",
        "from sklearn.cluster import SpectralClustering\n",
        "from scipy.cluster.hierarchy import complete, dendrogram\n",
        "from sklearn_extra.cluster import KMedoids\n"
      ],
      "execution_count": null,
      "outputs": []
    },
    {
      "cell_type": "code",
      "metadata": {
        "colab": {
          "base_uri": "https://localhost:8080/"
        },
        "id": "doPn5nD-FTI3",
        "outputId": "78757f8f-00a0-4423-a4d5-5d74fa2a5f08"
      },
      "source": [
        "from google.colab import drive\n",
        "drive.mount('/content/drive')"
      ],
      "execution_count": null,
      "outputs": [
        {
          "output_type": "stream",
          "text": [
            "Mounted at /content/drive\n"
          ],
          "name": "stdout"
        }
      ]
    },
    {
      "cell_type": "code",
      "metadata": {
        "id": "GwdWPBFSFTGm"
      },
      "source": [
        "!pip install -U -q PyDrive\n",
        "from pydrive.auth import GoogleAuth\n",
        "from pydrive.drive import GoogleDrive\n",
        "from google.colab import auth\n",
        "from oauth2client.client import GoogleCredentials\n",
        "# Authenticate and create the PyDrive client.\n",
        "auth.authenticate_user()\n",
        "gauth = GoogleAuth()\n",
        "gauth.credentials = GoogleCredentials.get_application_default()\n",
        "drive = GoogleDrive(gauth)"
      ],
      "execution_count": null,
      "outputs": []
    },
    {
      "cell_type": "markdown",
      "metadata": {
        "id": "wLvOuLx-teLS"
      },
      "source": [
        "### Dataset 1"
      ]
    },
    {
      "cell_type": "code",
      "metadata": {
        "id": "ql02ZL4znKla"
      },
      "source": [
        "## download numpy array data converted from Yale face image datasets\n",
        "##  X.npy and y.npy\n",
        "id='1pmrucfE1Nct6cPLiv5TFIXvgqoJF2NGN'\n",
        "downloaded = drive.CreateFile({'id':id}) \n",
        "downloaded.GetContentFile('X.npy')\n",
        "id='1Iy_As6ttEp__k3oBW2se5IJ2LoVeHVRN'\n",
        "downloaded = drive.CreateFile({'id':id}) \n",
        "downloaded.GetContentFile('y.npy')\n",
        "\n",
        "## load yale face array data\n",
        "X= np.load('X.npy',allow_pickle=True)\n",
        "y= np.load('y.npy',allow_pickle=True)"
      ],
      "execution_count": null,
      "outputs": []
    },
    {
      "cell_type": "code",
      "metadata": {
        "colab": {
          "base_uri": "https://localhost:8080/"
        },
        "id": "QownKXLGe1eO",
        "outputId": "194127bb-477a-4973-e0ef-fa39f5c20049"
      },
      "source": [
        "print('Cropped Yale face image files dataset dimensions:',X.shape)"
      ],
      "execution_count": null,
      "outputs": [
        {
          "output_type": "stream",
          "text": [
            "Cropped Yale face image files dataset dimensions: (640, 192, 168)\n"
          ],
          "name": "stdout"
        }
      ]
    },
    {
      "cell_type": "code",
      "metadata": {
        "id": "-z0MeQ59Rlh5"
      },
      "source": [
        "## normalize X to 0-1\n",
        "X=X/255.0"
      ],
      "execution_count": null,
      "outputs": []
    },
    {
      "cell_type": "code",
      "metadata": {
        "id": "Cg2T_u89Rr2C"
      },
      "source": [
        "## Extract edge features from image data using prewitt\n",
        "## prewitt_h() extracting horizontal edges from image\n",
        "## prewitt_v() extracting vertical edges from image\n",
        "##\n",
        "X_prewitt_h = []\n",
        "X_prewitt_v = []\n",
        "for i in range(X.shape[0]):\n",
        "  X_prewitt_h.append ( prewitt_h(X[i]))\n",
        "  X_prewitt_v.append(prewitt_v(X[i]))\n",
        "\n",
        "X_prewitt_h = np.asarray(X_prewitt_h)\n",
        "X_prewitt_h2 = X_prewitt_h.reshape(640,-1)"
      ],
      "execution_count": null,
      "outputs": []
    },
    {
      "cell_type": "code",
      "metadata": {
        "colab": {
          "base_uri": "https://localhost:8080/"
        },
        "id": "lvAYTDbES5Ad",
        "outputId": "d8e21f5b-c40c-4cab-b4cf-67d2a73c2e6e"
      },
      "source": [
        "## applying Principal Component Analysis and transform the data X \n",
        "## to X_pca\n",
        "X = X.reshape(640,-1)\n",
        "pca = PCA(n_components=0.99,whiten= True).fit(X)\n",
        "X_pca = pca.transform(X)\n",
        "print('After PCA, reduced dimension of dataset:',X_pca.shape)"
      ],
      "execution_count": null,
      "outputs": [
        {
          "output_type": "stream",
          "text": [
            "After PCA, reduced dimension of dataset: (640, 137)\n"
          ],
          "name": "stdout"
        }
      ]
    },
    {
      "cell_type": "code",
      "metadata": {
        "colab": {
          "base_uri": "https://localhost:8080/"
        },
        "id": "wPCYmgceS5G_",
        "outputId": "e630b557-bfa3-4eab-9001-0079e945a3e5"
      },
      "source": [
        "## The first two PCA components extracted 37.8% and 35% of the all feautres variance\n",
        "## \n",
        "pca.explained_variance_ratio_[:2]"
      ],
      "execution_count": null,
      "outputs": [
        {
          "output_type": "execute_result",
          "data": {
            "text/plain": [
              "array([0.37837947, 0.35036038])"
            ]
          },
          "metadata": {
            "tags": []
          },
          "execution_count": 10
        }
      ]
    },
    {
      "cell_type": "code",
      "metadata": {
        "colab": {
          "base_uri": "https://localhost:8080/",
          "height": 282
        },
        "id": "uRRVEheZS5Kz",
        "outputId": "39495e3c-d96f-4ac5-b9f1-a964b8f3a529"
      },
      "source": [
        "classes = range(11)\n",
        "\n",
        "scatter = plt.scatter(X_pca[:,0],X_pca[:,1],c=y)\n",
        "plt.legend(handles=scatter.legend_elements()[0], labels=classes)\n",
        "plt.show"
      ],
      "execution_count": null,
      "outputs": [
        {
          "output_type": "execute_result",
          "data": {
            "text/plain": [
              "<function matplotlib.pyplot.show>"
            ]
          },
          "metadata": {
            "tags": []
          },
          "execution_count": 11
        },
        {
          "output_type": "display_data",
          "data": {
            "image/png": "[encoded data removed]",
            "text/plain": [
              "<Figure size 432x288 with 1 Axes>"
            ]
          },
          "metadata": {
            "tags": [],
            "needs_background": "light"
          }
        }
      ]
    },
    {
      "cell_type": "markdown",
      "metadata": {
        "id": "ItHFfjgHtlPK"
      },
      "source": [
        "### Dataset 2"
      ]
    },
    {
      "cell_type": "markdown",
      "metadata": {
        "id": "xHrkg1R0FmHJ"
      },
      "source": [
        "File is accessed and downloaded by its google id. For the Amazon review data for books, each line has a format: <br>\n",
        "***feature:< count > .... feature:< count > #label#:< label >***\n",
        "\n",
        "Labels which are ratings given by the user while reviewing a book are extracted and used as a ground truth values for evaluating cluster performance. There are 4 labels in the dataset (1.0, 2.0, 4.0 and 5.0). Input file is uploaded on the Google Drive and read in the code using file ID. To get the raw review text from input file, features having count greater than 1 are repeated that many number of times. Features containing more than one word joined by an underscore are split. Raw data is tokenised, cleaned by removing punctuations and stop words and then stemmed and vectorized using feature extractors like TF-IDF, Hashing and Count Vectorizers. Parameters (max_df=0.8 and min_df=0.005) for TF-IDF and CountVectorizer are tuned to get reduced set of features.\n",
        "\n",
        "\n"
      ]
    },
    {
      "cell_type": "code",
      "metadata": {
        "id": "S6X-v-ToFwNV"
      },
      "source": [
        "file_name = 'amazon_book.review'\n",
        "id='1298lorudNIcztXAeEPeL8-93ZNpa92Pn'\n",
        "downloaded = drive.CreateFile({'id':id}) \n",
        "downloaded.GetContentFile(file_name)"
      ],
      "execution_count": null,
      "outputs": []
    },
    {
      "cell_type": "code",
      "metadata": {
        "id": "ZOoITp-XEHky"
      },
      "source": [
        "y_d2=[]\n",
        "reviews = []\n",
        "with open(file_name,'r',encoding='utf-8') as file:\n",
        "  for line in file:\n",
        "    raw_text = ''\n",
        "    text, label = line.strip().split('#label#:')\n",
        "    for word in text.strip().split(' '):\n",
        "      term, freq = word.split(':')\n",
        "      raw_text = raw_text + (term+' ')* int(freq) \n",
        "    reviews.append(raw_text.replace(\"_\", \" \"))\n",
        "    y_d2.append(float(label))"
      ],
      "execution_count": null,
      "outputs": []
    },
    {
      "cell_type": "code",
      "metadata": {
        "colab": {
          "base_uri": "https://localhost:8080/"
        },
        "id": "4I-9BHk5FJSE",
        "outputId": "4b5b0aa7-fcc5-496a-b7ec-91a2a9dbcc09"
      },
      "source": [
        "print('Total number of reviews: ', len(reviews))\n",
        "print(reviews[3])"
      ],
      "execution_count": null,
      "outputs": [
        {
          "output_type": "stream",
          "text": [
            "Total number of reviews:  5501\n",
            "it would count system continually found simple k-0 by you outdated knew and even book has original thorpe's most of contains no theory of of isn't a this this by the be surpassed powerful and that the even no you you you the popular popular outdated info outdated really even if i found didn't it has been system presented this book terrible one you didn't powerful bad bland but giving you contains surpassed by feeling that the unsettling terrible info better k-0 elsewhere eg explains simple found i it explains but but and and and practice of book isn't explains the has been k-0 system book book book feeling presented in one unsettling feeling more powerful get you continually continually get it it is giving this information in card counting if i knew bad information eg ed bland isn't thorpe's original in the been surpassed unsettling learned elsewhere the theory most card learned personally i personally practice of card counting but one it and more of this that ed thorpe's but contains i i better learned count elsewhere a more more original the is giving really bad the the the the the the didn't information and and practice presented eg the book the book ed popular more book is if you be better knew most information information counting more simple system system a terrible but personally would system you would be no really get the the count theory and \n"
          ],
          "name": "stdout"
        }
      ]
    },
    {
      "cell_type": "code",
      "metadata": {
        "colab": {
          "base_uri": "https://localhost:8080/"
        },
        "id": "ABOoR7mPFJPA",
        "outputId": "21931da2-689e-449b-9f17-9ca2808c7754"
      },
      "source": [
        "### data preprocessing - Tokenising and stemming\n",
        "stemmer = SnowballStemmer(\"english\")\n",
        "nltk.download('punkt')\n",
        "nltk.download('stopwords')\n",
        "stop_words = set(stopwords.words('english'))\n",
        "\n",
        "def tokenize_and_stem(text):\n",
        "    # first tokenize by sentence, then by word to ensure that punctuation is caught as it's own token\n",
        "    tokens = [word for sent in nltk.sent_tokenize(text) for word in nltk.word_tokenize(sent)]\n",
        "    filtered_tokens = []\n",
        "    # filter out any tokens not containing letters (e.g., numeric tokens, raw punctuation and stop words)\n",
        "    for token in tokens:\n",
        "        if (re.search('[a-zA-Z]', token) and token not in stop_words):\n",
        "            filtered_tokens.append(token)\n",
        "    stems = [stemmer.stem(t) for t in filtered_tokens]\n",
        "    #print(stems[:20])\n",
        "    return stems"
      ],
      "execution_count": null,
      "outputs": [
        {
          "output_type": "stream",
          "text": [
            "[nltk_data] Downloading package punkt to /root/nltk_data...\n",
            "[nltk_data]   Unzipping tokenizers/punkt.zip.\n",
            "[nltk_data] Downloading package stopwords to /root/nltk_data...\n",
            "[nltk_data]   Unzipping corpora/stopwords.zip.\n"
          ],
          "name": "stdout"
        }
      ]
    },
    {
      "cell_type": "markdown",
      "metadata": {
        "id": "ql4gwJ9EHkBH"
      },
      "source": [
        "\n",
        "**Feature Extraction using TF-IDF, Hashing and CountVectorizer**\n"
      ]
    },
    {
      "cell_type": "code",
      "metadata": {
        "colab": {
          "base_uri": "https://localhost:8080/"
        },
        "id": "rvs5-T2I0PQe",
        "outputId": "4b4f3be0-72d0-4549-e713-7ee142315405"
      },
      "source": [
        "### TfidfVectorizer with stemming\n",
        "\n",
        "tfidf_vectorizer = TfidfVectorizer(max_df=0.8, min_df=0.005 , max_features=50000,\n",
        "                                  stop_words='english',\n",
        "                                 use_idf=True, tokenizer=tokenize_and_stem, ngram_range=(1,2))\n",
        "tfidf_matrix = tfidf_vectorizer.fit_transform(reviews)\n",
        "\n",
        "print('tfidf_matrix.shape: ', tfidf_matrix.shape)\n",
        "print('vocabulary size:', len(tfidf_vectorizer.vocabulary_))\n",
        "dist_tfidf = 1 - cosine_similarity(tfidf_matrix)\n",
        "\n",
        "X_tfidf = tfidf_matrix\n"
      ],
      "execution_count": null,
      "outputs": [
        {
          "output_type": "stream",
          "text": [
            "/usr/local/lib/python3.7/dist-packages/sklearn/feature_extraction/text.py:391: UserWarning: Your stop_words may be inconsistent with your preprocessing. Tokenizing the stop words generated tokens ['afterward', 'alon', 'alreadi', 'alway', 'anoth', 'anyon', 'anyth', 'anywher', 'becam', 'becom', 'besid', 'cri', 'describ', 'els', 'elsewher', 'empti', 'everi', 'everyon', 'everyth', 'everywher', 'fifti', 'forti', 'henc', 'hereaft', 'herebi', 'howev', 'hundr', 'inde', 'mani', 'meanwhil', 'moreov', 'nobodi', 'noon', 'noth', 'nowher', 'otherwis', 'perhap', 'pleas', 'sever', 'sinc', 'sincer', 'sixti', 'someon', 'someth', 'sometim', 'somewher', 'thenc', 'thereaft', 'therebi', 'therefor', 'togeth', 'twelv', 'twenti', 'whatev', 'whenc', 'whenev', 'wherea', 'whereaft', 'wherebi', 'wherev'] not in stop_words.\n",
            "  'stop_words.' % sorted(inconsistent))\n"
          ],
          "name": "stderr"
        },
        {
          "output_type": "stream",
          "text": [
            "tfidf_matrix.shape:  (5501, 2801)\n",
            "vocabulary size: 2801\n"
          ],
          "name": "stdout"
        }
      ]
    },
    {
      "cell_type": "code",
      "metadata": {
        "id": "clbAN-buPTKn"
      },
      "source": [
        "# ### HashingVectorizer\n",
        "\n",
        "# hashVectorizer = HashingVectorizer(stop_words='english', \n",
        "#                                alternate_sign=False, \n",
        "#                                tokenizer=tokenize_and_stem)\n",
        "# hashing_matrix = hashVectorizer.fit_transform(reviews)\n",
        "\n",
        "# print('hashing_matrix.shape: ', hashing_matrix.shape)\n",
        "# dist_hashing = 1 - cosine_similarity(hashing_matrix)\n"
      ],
      "execution_count": null,
      "outputs": []
    },
    {
      "cell_type": "code",
      "metadata": {
        "colab": {
          "base_uri": "https://localhost:8080/"
        },
        "id": "CuSKqn5x2fKZ",
        "outputId": "9167006b-b604-4b61-c070-530efd374d17"
      },
      "source": [
        "### CountVectorizer\n",
        "\n",
        "vect_count = CountVectorizer(stop_words=\"english\" ,max_df=0.8, min_df=0.005,\n",
        "                             tokenizer=tokenize_and_stem)\n",
        "count_matrix = vect_count.fit_transform(reviews)\n",
        "\n",
        "print('count_matrix.shape: ', count_matrix.shape)\n",
        "print('vocabulary size:', len(vect_count.get_feature_names()))\n",
        "#print(vect_count.get_feature_names()[100:130])\n",
        "\n",
        "X_cv = count_matrix\n"
      ],
      "execution_count": null,
      "outputs": [
        {
          "output_type": "stream",
          "text": [
            "/usr/local/lib/python3.7/dist-packages/sklearn/feature_extraction/text.py:391: UserWarning: Your stop_words may be inconsistent with your preprocessing. Tokenizing the stop words generated tokens ['afterward', 'alon', 'alreadi', 'alway', 'anoth', 'anyon', 'anyth', 'anywher', 'becam', 'becom', 'besid', 'cri', 'describ', 'els', 'elsewher', 'empti', 'everi', 'everyon', 'everyth', 'everywher', 'fifti', 'forti', 'henc', 'hereaft', 'herebi', 'howev', 'hundr', 'inde', 'mani', 'meanwhil', 'moreov', 'nobodi', 'noon', 'noth', 'nowher', 'otherwis', 'perhap', 'pleas', 'sever', 'sinc', 'sincer', 'sixti', 'someon', 'someth', 'sometim', 'somewher', 'thenc', 'thereaft', 'therebi', 'therefor', 'togeth', 'twelv', 'twenti', 'whatev', 'whenc', 'whenev', 'wherea', 'whereaft', 'wherebi', 'wherev'] not in stop_words.\n",
            "  'stop_words.' % sorted(inconsistent))\n"
          ],
          "name": "stderr"
        },
        {
          "output_type": "stream",
          "text": [
            "count_matrix.shape:  (5501, 1847)\n",
            "vocabulary size: 1847\n"
          ],
          "name": "stdout"
        }
      ]
    },
    {
      "cell_type": "code",
      "metadata": {
        "colab": {
          "base_uri": "https://localhost:8080/"
        },
        "id": "0jSM3UDur8rp",
        "outputId": "d80dfd81-0865-4b4d-e35c-efc56b90ca43"
      },
      "source": [
        "dist_count = 1 - cosine_similarity(count_matrix)\n",
        "\n",
        "linkage_matrix_cv = complete(dist_count) #define the linkage_matrix using ward clustering pre-computed distances\n",
        "linkage_matrix_cv.shape"
      ],
      "execution_count": null,
      "outputs": [
        {
          "output_type": "execute_result",
          "data": {
            "text/plain": [
              "(5500, 4)"
            ]
          },
          "metadata": {
            "tags": []
          },
          "execution_count": 19
        }
      ]
    },
    {
      "cell_type": "code",
      "metadata": {
        "colab": {
          "base_uri": "https://localhost:8080/",
          "height": 466
        },
        "id": "TCM-Hf7kr8rs",
        "outputId": "16669ab3-ecb2-46a9-dd08-c5802c75008b"
      },
      "source": [
        "\n",
        "fig, ax = plt.subplots(figsize=(12, 8)) # set size\n",
        "ax = dendrogram(linkage_matrix_cv, orientation=\"top\");\n",
        "\n",
        "plt.tick_params(\\\n",
        "    axis= 'x',          # changes apply to the x-axis\n",
        "    which='both',      # both major and minor ticks are affected\n",
        "    bottom='off',      # ticks along the bottom edge are off\n",
        "    top='off',         # ticks along the top edge are off\n",
        "    labelbottom='off',\n",
        "    labelsize=15\n",
        "    )\n",
        "plt.tick_params(\\\n",
        "    axis= 'y',          # changes apply to the y-axis\n",
        "    labelsize=15\n",
        "    )\n",
        "\n",
        "plt.tight_layout() #show plot with tight layout\n",
        "\n",
        "#save figure as ward_clusters\n",
        "plt.savefig('ward_clusters.png', dpi=200) "
      ],
      "execution_count": null,
      "outputs": [
        {
          "output_type": "display_data",
          "data": {
            "image/png": "[encoded data removed]",
            "text/plain": [
              "<Figure size 864x576 with 1 Axes>"
            ]
          },
          "metadata": {
            "tags": [],
            "needs_background": "light"
          }
        }
      ]
    },
    {
      "cell_type": "markdown",
      "metadata": {
        "id": "F-3XiApgk3sA"
      },
      "source": [
        "\n",
        "\n",
        "---\n",
        "\n",
        "\n",
        "# 2. K-means Clustering"
      ]
    },
    {
      "cell_type": "markdown",
      "metadata": {
        "id": "hxAng4yft0nA"
      },
      "source": [
        "## 2.1 Dataset 1"
      ]
    },
    {
      "cell_type": "markdown",
      "metadata": {
        "id": "WgV8ZaHalV5D"
      },
      "source": [
        "### Train K-means clustering"
      ]
    },
    {
      "cell_type": "markdown",
      "metadata": {
        "id": "o0fau5vVl-dp"
      },
      "source": [
        "**Choosing Opitmal Feature Extraction**"
      ]
    },
    {
      "cell_type": "code",
      "metadata": {
        "id": "JjbY36DHl_L6"
      },
      "source": [
        "kmeans = KMeans(n_clusters=10)\n",
        "kmeans.fit(X)\n",
        "y_pred = kmeans.predict(X)"
      ],
      "execution_count": null,
      "outputs": []
    },
    {
      "cell_type": "code",
      "metadata": {
        "id": "5IoJNllDjBgF"
      },
      "source": [
        "kmeans_pca = KMeans(n_clusters=10)\n",
        "kmeans_pca.fit(X_pca)\n",
        "y_pred_pca = kmeans_pca.predict(X_pca)"
      ],
      "execution_count": null,
      "outputs": []
    },
    {
      "cell_type": "code",
      "metadata": {
        "id": "I8FijeGBjTkF"
      },
      "source": [
        "kmeans_edge = KMeans(n_clusters=10)\n",
        "kmeans_edge.fit(X_prewitt_h2)\n",
        "y_pred_edge = kmeans_edge.predict(X_prewitt_h2)"
      ],
      "execution_count": null,
      "outputs": []
    },
    {
      "cell_type": "code",
      "metadata": {
        "colab": {
          "base_uri": "https://localhost:8080/"
        },
        "id": "H0MKGrDuj1t1",
        "outputId": "d12999ba-8aaa-4b2f-b311-4d6f04477685"
      },
      "source": [
        "print('\\n\\nfowlkes_mallows_score for raw data:',fowlkes_mallows_score(y,y_pred))\n",
        "print('fowlkes_mallows_score for PCA data:',fowlkes_mallows_score(y,y_pred_pca))\n",
        "print('fowlkes_mallows_score for data with edge feature extraction:',fowlkes_mallows_score(y,y_pred_edge))"
      ],
      "execution_count": null,
      "outputs": [
        {
          "output_type": "stream",
          "text": [
            "\n",
            "\n",
            "fowlkes_mallows_score for raw data: 0.12202810007969392\n",
            "fowlkes_mallows_score for PCA data: 0.2216646270617412\n",
            "fowlkes_mallows_score for data with edge feature extraction: 0.35512509886216165\n"
          ],
          "name": "stdout"
        }
      ]
    },
    {
      "cell_type": "markdown",
      "metadata": {
        "id": "SZDlF_LDjihn"
      },
      "source": [
        "We tried applying kmeans containing all parameters constant on different feature extraction dataset (raw data, PCA reduced-dimention data, data of edge feature extraction with prewitt). Evaluate the clustering results using extrinsic evaluation pairwise metric fowlkes_mallows, which compare the similarities between two clustering, one clustering from predicted labels, the other one with ground truth labels. Data with edge feature extraction achieved the highest performance. Therefore, we will use this data set with feature extraction as our input data to clustering algorithms."
      ]
    },
    {
      "cell_type": "markdown",
      "metadata": {
        "id": "Dw68xyB9mPM5"
      },
      "source": [
        "**Choosing Optimal K**"
      ]
    },
    {
      "cell_type": "code",
      "metadata": {
        "id": "2i3dhalgjhP_"
      },
      "source": [
        "## Choosing optimal k through ploting inertia through different k values\n",
        "## and detect the elbow.\n",
        "\n",
        "kmeans_per_k = [KMeans(n_clusters=k, random_state=42).fit(X_prewitt_h2)\n",
        "                for k in range(8,13)]\n",
        "inertias = [model.inertia_ for model in kmeans_per_k]"
      ],
      "execution_count": null,
      "outputs": []
    },
    {
      "cell_type": "code",
      "metadata": {
        "colab": {
          "base_uri": "https://localhost:8080/",
          "height": 293
        },
        "id": "LGJMCFkVkGYw",
        "outputId": "ed45781d-8ef6-4855-886b-f9101148e124"
      },
      "source": [
        "print(inertias)\n",
        "\n",
        "plt.figure(figsize=(8, 3.5))\n",
        "plt.plot(range(8, 13), inertias, \"bo-\")\n",
        "plt.xlabel(\"$k$\", fontsize=14)\n",
        "plt.ylabel(\"Inertia\", fontsize=14)\n",
        "plt.show()"
      ],
      "execution_count": null,
      "outputs": [
        {
          "output_type": "stream",
          "text": [
            "[33027.111337366434, 32324.539046302736, 31617.303357122582, 30462.24759424574, 29914.711063013176]\n"
          ],
          "name": "stdout"
        },
        {
          "output_type": "display_data",
          "data": {
            "image/png": "[encoded data removed]",
            "text/plain": [
              "<Figure size 576x252 with 1 Axes>"
            ]
          },
          "metadata": {
            "tags": [],
            "needs_background": "light"
          }
        }
      ]
    },
    {
      "cell_type": "code",
      "metadata": {
        "id": "fYXK01ySlUqV"
      },
      "source": [
        "## A silhouette score of a model is a mean silhouette score for all points\n",
        "\n",
        "## The Silhouette Coefficient for a sample is (b - a) / max(a, b)\n",
        "## a: mean intra-cluster distance  and b: the mean nearest-cluster distance \n",
        "## its value ranges from -1 to 1. \n",
        "## Negative values indicates that mean nearest-cluster distance < mean intra cluster distance.\n",
        "##  \n",
        "\n",
        "silhouette_scores = [silhouette_score(X_prewitt_h2, model.labels_)\n",
        "                     for model in kmeans_per_k]"
      ],
      "execution_count": null,
      "outputs": []
    },
    {
      "cell_type": "code",
      "metadata": {
        "colab": {
          "base_uri": "https://localhost:8080/",
          "height": 230
        },
        "id": "0VM68fF-lUtU",
        "outputId": "9551948b-58fc-408e-fa59-1f959edbeac2"
      },
      "source": [
        "plt.figure(figsize=(8, 3))\n",
        "plt.plot(range(8, 13), silhouette_scores, \"bo-\")\n",
        "plt.xlabel(\"$k$\", fontsize=14)\n",
        "plt.ylabel(\"Silhouette score\", fontsize=14)\n",
        "plt.show()"
      ],
      "execution_count": null,
      "outputs": [
        {
          "output_type": "display_data",
          "data": {
            "image/png": "[encoded data removed]",
            "text/plain": [
              "<Figure size 576x216 with 1 Axes>"
            ]
          },
          "metadata": {
            "tags": [],
            "needs_background": "light"
          }
        }
      ]
    },
    {
      "cell_type": "code",
      "metadata": {
        "colab": {
          "base_uri": "https://localhost:8080/",
          "height": 697
        },
        "id": "IRVIWQoeljDx",
        "outputId": "3246b722-6ec2-47b5-87ab-a02a5a3d26fc"
      },
      "source": [
        "plt.figure(figsize=(12, 12))\n",
        "\n",
        "for k in (9,10,11,12):\n",
        "    plt.subplot(2, 2, k - 8)\n",
        "    plt.subplots_adjust(hspace=0.5)\n",
        "    \n",
        "    y_pred = kmeans_per_k[k - 9].labels_\n",
        "    silhouette_coefficients = silhouette_samples(X_prewitt_h2, y_pred_edge)\n",
        "\n",
        "    padding = 5000 // 30\n",
        "    pos = padding\n",
        "    ticks = []\n",
        "    for i in range(k):\n",
        "        coeffs = silhouette_coefficients[y_pred_edge == i]\n",
        "        coeffs.sort()\n",
        "\n",
        "        color = mpl.cm.Spectral(i / k)\n",
        "        plt.fill_betweenx(np.arange(pos, pos + len(coeffs)), 0, coeffs,\n",
        "                          facecolor=color, edgecolor=color, alpha=0.7)\n",
        "        ticks.append(pos + len(coeffs) // 2)\n",
        "        pos += len(coeffs) + padding\n",
        "\n",
        "    plt.gca().yaxis.set_major_locator(FixedLocator(ticks))\n",
        "    plt.gca().yaxis.set_major_formatter(FixedFormatter(range(k)))\n",
        "    # if k in (3, 7):\n",
        "    #     plt.ylabel(\"Cluster\")\n",
        "    \n",
        "    # if k in (3, 4, 5, 6, 7, 8, 9):\n",
        "    #     plt.gca().set_xticks([-0.01, 0, 0.02, 0.04, 0.06, 0.08])\n",
        "    #     plt.xlabel(\"Silhouette Coefficient\")\n",
        "    # else:\n",
        "    #     plt.tick_params(labelbottom=False)\n",
        "\n",
        "    plt.axvline(x=silhouette_scores[k - 9], color=\"red\", linestyle=\"--\")\n",
        "    plt.title(\"$k={}$\".format(k), fontsize=16)\n",
        "\n",
        "plt.show()"
      ],
      "execution_count": null,
      "outputs": [
        {
          "output_type": "display_data",
          "data": {
            "image/png": "[encoded data removed]",
            "text/plain": [
              "<Figure size 864x864 with 4 Axes>"
            ]
          },
          "metadata": {
            "tags": [],
            "needs_background": "light"
          }
        }
      ]
    },
    {
      "cell_type": "code",
      "metadata": {
        "id": "TUtj7HB3ljHK"
      },
      "source": [
        "kmeans = KMeans(n_clusters=11)\n",
        "kmeans.fit(X_prewitt_h2)\n",
        "y_pred = kmeans.predict(X_prewitt_h2)"
      ],
      "execution_count": null,
      "outputs": []
    },
    {
      "cell_type": "markdown",
      "metadata": {
        "id": "ndCkjAmsh3ps"
      },
      "source": [
        "**Second Similarity Measure**\n",
        "\n",
        "Applying a different similarity measure instead of Euclidean distance.\n",
        "Using cosine distance metric in KMedoids."
      ]
    },
    {
      "cell_type": "code",
      "metadata": {
        "id": "ArskdGzAlUzU"
      },
      "source": [
        "## Applying a different similarity measure instead of Euclidean distance.\n",
        "## Using cosine distance metric in KMedoids()\n",
        "\n",
        "## K-means attempts to minimize the total squared error, while k-medoids minimizes \n",
        "## the sum of dissimilarities between points labeled \n",
        "## to be in a cluster and a point designated as the center of that cluster. \n",
        "\n",
        "kmedoids = KMedoids(n_clusters=11, metric='cosine').fit(X_prewitt_h2)\n",
        "y_pred_cosine = kmedoids.labels_"
      ],
      "execution_count": null,
      "outputs": []
    },
    {
      "cell_type": "markdown",
      "metadata": {
        "id": "VLaxMNFYlxUR"
      },
      "source": [
        "### First evaluation"
      ]
    },
    {
      "cell_type": "markdown",
      "metadata": {
        "id": "-ZDeJTLflncj"
      },
      "source": [
        "**Justification to choose Fowlkes-Mallow as one of evalution metric**\n",
        "\n",
        "Fowlkes-Mallow score is a pair-wise measure. For each pair of data points Xi,Xj, yi,yj are ground truth labels, yi_pred,yj_pred are predicint clustering labels.\n",
        "TP = {yi=yj, yi_pred=yj_prid}\n",
        "FN = {yi=yj, yi_pred!=yi_pred}\n",
        "FP = {yi!=yj, yi_pred=yj_pred}\n",
        "TN = {yi!=yj, yi_pred != yj_pred}\n",
        "\n",
        "precision = TP/(TP+FP)\n",
        "recall = TP/(TP+FN)\n",
        "And then fowlkes-Mallow is a geometric mean of precision and recall. The range is 0 to 1. When the value is equal to 1, it indicates exactly the same two clusterings.\n",
        "\n",
        "It is a metric to measure the similarity of two clusterings. In our study, we already know the labels for all images. Therefore the more similar our clustering is to the ground truth labels clustering, the better the clustering performance."
      ]
    },
    {
      "cell_type": "code",
      "metadata": {
        "colab": {
          "base_uri": "https://localhost:8080/"
        },
        "id": "vq8IHtUdvtpR",
        "outputId": "5813d568-1bb0-4e43-c929-11889a677be5"
      },
      "source": [
        "## Cluster size of each clustering model:\n",
        "print('Cluster size for KMeans Euclidean distance:', np.bincount(y_pred))\n",
        "print('Cluster size for KMedoids cosine distance:',np.bincount(y_pred_cosine))"
      ],
      "execution_count": null,
      "outputs": [
        {
          "output_type": "stream",
          "text": [
            "Cluster size for KMeans Euclidean distance: [ 12  55 273  36  30  39  42  35  41  42  35]\n",
            "Cluster size for KMedoids cosine distance: [59 58 78 70 54 63 40 49 63 40 66]\n"
          ],
          "name": "stdout"
        }
      ]
    },
    {
      "cell_type": "code",
      "metadata": {
        "colab": {
          "base_uri": "https://localhost:8080/"
        },
        "id": "IDyDIdholx0h",
        "outputId": "c958b1f6-c367-4001-ad87-9d59067b55d9"
      },
      "source": [
        "## Confusion Matrix and Fowlkes_mallows_score\n",
        "\n",
        "print('\\nConfusion matrix for model kmeans:\\n',confusion_matrix(y,y_pred_edge))\n",
        "print('fowlkes_mallows_score for model kmeans:',fowlkes_mallows_score(y,y_pred_edge))\n",
        "#print('fowlkes_mallows_score for data with edge feature extraction:',fowlkes_mallows_score(y,y_pred_edge))"
      ],
      "execution_count": null,
      "outputs": [
        {
          "output_type": "stream",
          "text": [
            "\n",
            "Confusion matrix for model kmeans:\n",
            " [[ 0  0  0  0  0  0  0  0  0  0  0]\n",
            " [41  0  4  0  0  0  0 19  0  0  0]\n",
            " [ 0  0  0 41  0  0  0 23  0  0  0]\n",
            " [ 0  0 22  0  0 24  0 18  0  0  0]\n",
            " [ 0  0  0  0  0  0  0 64  0  0  0]\n",
            " [ 0 25  0  0 16  0  0 23  0  0  0]\n",
            " [ 0  0 11  0  0  0  0 19  0 34  0]\n",
            " [ 0  0  0  0  0  0  0 64  0  0  0]\n",
            " [ 0  0  6  0  0  0 41 17  0  0  0]\n",
            " [ 0  0  5  0  0  0  0 17 42  0  0]\n",
            " [ 0  0 20  0  0 29  0 15  0  0  0]]\n",
            "fowlkes_mallows_score for model kmeans: 0.35512509886216165\n"
          ],
          "name": "stdout"
        }
      ]
    },
    {
      "cell_type": "code",
      "metadata": {
        "colab": {
          "base_uri": "https://localhost:8080/"
        },
        "id": "9fAkEL54kgx_",
        "outputId": "e0386e3f-c8e8-4ce2-899e-4d94b8c3f455"
      },
      "source": [
        "print('Confusion matrix for kmedoids with cosine metric:\\n',confusion_matrix(y,y_pred_cosine))\n",
        "print('\\n\\nfowlkes_mallows_score is:',fowlkes_mallows_score(y,y_pred_cosine))"
      ],
      "execution_count": null,
      "outputs": [
        {
          "output_type": "stream",
          "text": [
            "Confusion matrix for kmedoids with cosine metric:\n",
            " [[ 0  0  0  0  0  0  0  0  0  0  0]\n",
            " [ 3 45 13  0  1  0  0  0  2  0  0]\n",
            " [ 8  0  6  0  0 50  0  0  0  0  0]\n",
            " [ 8  1  8  0 10  1  0 36  0  0  0]\n",
            " [ 0  0  1 55  0  0  0  0  8  0  0]\n",
            " [ 4  4  3  0  3 12  1 10  7  0 20]\n",
            " [15  0 16  0  0  0  0  0  0 33  0]\n",
            " [ 2  2  9 15  0  0  3  0 22  0 11]\n",
            " [ 8  6  8  0 17  0 15  2  1  7  0]\n",
            " [ 0  0  5  0  1  0  0  0 23  0 35]\n",
            " [11  0  9  0 22  0 21  1  0  0  0]]\n",
            "\n",
            "\n",
            "fowlkes_mallows_score is: 0.4002267038488114\n"
          ],
          "name": "stdout"
        }
      ]
    },
    {
      "cell_type": "markdown",
      "metadata": {
        "id": "XrItLpXPlk15"
      },
      "source": [
        "### Second evaluation"
      ]
    },
    {
      "cell_type": "code",
      "metadata": {
        "colab": {
          "base_uri": "https://localhost:8080/"
        },
        "id": "TCWhUPNklgll",
        "outputId": "0a2ab0b8-81f3-4193-819f-ac20d1ad0f19"
      },
      "source": [
        "## Silhouette score\n",
        "\n",
        "print('silhouette score for the KMeans Clustering:',silhouette_score(X_prewitt_h2,y_pred))\n",
        "print('silhouette score for the KMedoids Clustering:',silhouette_score(X_prewitt_h2,y_pred_cosine))\n",
        "\n"
      ],
      "execution_count": null,
      "outputs": [
        {
          "output_type": "stream",
          "text": [
            "silhouette score for the KMeans Clustering: 0.07548605931203575\n",
            "silhouette score for the KMedoids Clustering: 0.05026862742293029\n"
          ],
          "name": "stdout"
        }
      ]
    },
    {
      "cell_type": "markdown",
      "metadata": {
        "id": "o-dhDS0cuYGI"
      },
      "source": [
        "## 2.2 Dataset 2"
      ]
    },
    {
      "cell_type": "markdown",
      "metadata": {
        "id": "Shyegx-9ufUI"
      },
      "source": [
        "### Train K-means clustering"
      ]
    },
    {
      "cell_type": "markdown",
      "metadata": {
        "id": "UW9sPSb6PCNK"
      },
      "source": [
        "First, K-means algorithm is applied on pre-processed input data with TF_IDF feature extractor. As K-means only uses Euclidean distance, K-Medoids algorithm is used to evaluate distance measures like Manhattan, cosine and Euclidean for multiple values of K. <br><br>\n",
        "K-means used concept of centroid, which is a mean of a group of points, whereas K-medoids is based on medoid, which is a most representative point for a group of points and hence various distance measures can be applied. <br><br>\n"
      ]
    },
    {
      "cell_type": "code",
      "metadata": {
        "id": "vBjbFw8Y4XML"
      },
      "source": [
        "# kmeans_per_k_tfidf = [KMeans(n_clusters=k).fit(X_tfidf)\n",
        "#                 for k in range(2, 5)]\n",
        "# kmeans_per_k_cv = [KMeans(n_clusters=k).fit(X_cv)\n",
        "#                 for k in range(2, 5)]\n",
        "# kmeans_per_k_tfidf_pca = [KMeans(n_clusters=k).fit(X_tfidf_pca)\n",
        "#                 for k in range(2, 5)]\n",
        "# kmeans_per_k_cv_pca = [KMeans(n_clusters=k).fit(X_cv_pca)\n",
        "#                 for k in range(2, 5)]\n",
        "\n",
        "# K-means\n",
        "kmeans_per_k_cv = [KMeans(n_clusters=k).fit(X_tfidf)\n",
        "                 for k in range(2, 8)]\n",
        "\n",
        "# K-medoids - Manhattan\n",
        "kMedoid_per_k_cv_s_m = [KMedoids(n_clusters=k, init='k-medoids++', metric='manhattan').fit(X_tfidf)\n",
        "                 for k in range(2, 8)]\n",
        "\n",
        "# K-medoids - Cosine\n",
        "kMedoid_per_k_cv_s_c = [KMedoids(n_clusters=k, init='k-medoids++', metric='cosine').fit(X_tfidf)\n",
        "                 for k in range(2, 8)]\n",
        "\n",
        "# K-medoids - Euclidean\n",
        "kMedoid_per_k_cv_s_e = [KMedoids(n_clusters=k, init='k-medoids++', metric='euclidean').fit(X_tfidf)\n",
        "                 for k in range(2, 8)]\n"
      ],
      "execution_count": null,
      "outputs": []
    },
    {
      "cell_type": "markdown",
      "metadata": {
        "id": "L3Jlu2ThhC2O"
      },
      "source": [
        "**Choosing optimal K value:**\n",
        "\n",
        "For elbow method to choose K, intertias are plotted for various values of k for K-means and K-medoids with 3 similarity measures.\n",
        "No visible elbow observed."
      ]
    },
    {
      "cell_type": "code",
      "metadata": {
        "id": "6Ha8bg6VMYre",
        "colab": {
          "base_uri": "https://localhost:8080/"
        },
        "outputId": "24392e8a-459d-4d75-af60-7ac4c364e75d"
      },
      "source": [
        "# K-means\n",
        "inertias_cv = [model.inertia_ for model in kmeans_per_k_cv]\n",
        "print(inertias_cv)\n",
        "\n",
        "# K-medoids - Manhattan\n",
        "inertias_cv_s_m = [model.inertia_ for model in kMedoid_per_k_cv_s_m]\n",
        "print(inertias_cv_s_m)\n",
        "\n",
        "# K-medoids - Cosine\n",
        "inertias_cv_s_c = [model.inertia_ for model in kMedoid_per_k_cv_s_c]\n",
        "print(inertias_cv_s_c)\n",
        "\n",
        "# K-medoids - Euclidean\n",
        "inertias_cv_s_e = [model.inertia_ for model in kMedoid_per_k_cv_s_e]\n",
        "print(inertias_cv_s_e)\n"
      ],
      "execution_count": null,
      "outputs": [
        {
          "output_type": "stream",
          "text": [
            "[5274.757215000207, 5236.27083075027, 5219.180402553116, 5198.870190965196, 5185.221072913581, 5171.748206993055]\n",
            "[37071.70226467596, 37068.119161541224, 37057.925591439016, 37058.136247544695, 37038.55123147953, 37035.57761719773]\n",
            "[4965.863789589557, 4855.78897975813, 4917.102608282513, 4836.1465744280995, 4852.317586698238, 4863.3667001568]\n",
            "[7374.680186179605, 7342.900570572972, 7298.847820019915, 7310.795468636745, 7295.045105154246, 7293.2425317873585]\n"
          ],
          "name": "stdout"
        }
      ]
    },
    {
      "cell_type": "code",
      "metadata": {
        "id": "HQ6IhBib2qFk",
        "colab": {
          "base_uri": "https://localhost:8080/",
          "height": 932
        },
        "outputId": "e8ea3661-21bb-4945-ee5c-ef9ebe924bf5"
      },
      "source": [
        "plt.figure(figsize=(5, 3))\n",
        "plt.plot(range(2, 8), inertias_cv, \"bo-\")\n",
        "plt.xlabel(\"$k$\", fontsize=14)\n",
        "plt.ylabel(\"Inertia\", fontsize=14)\n",
        "plt.title(\"Kmeans\")\n",
        "plt.show()\n",
        "\n",
        "plt.figure(figsize=(5, 3))\n",
        "plt.plot(range(2, 8), inertias_cv_s_e, \"bo-\")\n",
        "plt.xlabel(\"$k$\", fontsize=14)\n",
        "plt.ylabel(\"Inertia\", fontsize=14)\n",
        "plt.title(\"With Euclidean distance \")\n",
        "plt.show()\n",
        "\n",
        "plt.figure(figsize=(5, 3))\n",
        "plt.plot(range(2, 8), inertias_cv_s_c, \"bo-\")\n",
        "plt.xlabel(\"$k$\", fontsize=14)\n",
        "plt.ylabel(\"Inertia\", fontsize=14)\n",
        "plt.title(\"With Cosine distance \")\n",
        "plt.show()\n",
        "\n",
        "plt.figure(figsize=(5, 3))\n",
        "plt.plot(range(2, 8), inertias_cv_s_m, \"bo-\")\n",
        "plt.xlabel(\"$k$\", fontsize=14)\n",
        "plt.ylabel(\"Inertia\", fontsize=14)\n",
        "plt.title(\"With Manhattan distance \")\n",
        "plt.show()\n"
      ],
      "execution_count": null,
      "outputs": [
        {
          "output_type": "display_data",
          "data": {
            "image/png": "[encoded data removed]",
            "text/plain": [
              "<Figure size 360x216 with 1 Axes>"
            ]
          },
          "metadata": {
            "tags": [],
            "needs_background": "light"
          }
        },
        {
          "output_type": "display_data",
          "data": {
            "image/png": "[encoded data removed]",
            "text/plain": [
              "<Figure size 360x216 with 1 Axes>"
            ]
          },
          "metadata": {
            "tags": [],
            "needs_background": "light"
          }
        },
        {
          "output_type": "display_data",
          "data": {
            "image/png": "[encoded data removed]",
            "text/plain": [
              "<Figure size 360x216 with 1 Axes>"
            ]
          },
          "metadata": {
            "tags": [],
            "needs_background": "light"
          }
        },
        {
          "output_type": "display_data",
          "data": {
            "image/png": "[encoded data removed]",
            "text/plain": [
              "<Figure size 360x216 with 1 Axes>"
            ]
          },
          "metadata": {
            "tags": [],
            "needs_background": "light"
          }
        }
      ]
    },
    {
      "cell_type": "code",
      "metadata": {
        "id": "V39H7qU3_g1G",
        "colab": {
          "base_uri": "https://localhost:8080/"
        },
        "outputId": "745cf521-9300-4f00-94bd-846ef0665a74"
      },
      "source": [
        "  print('Confusion matrix for K = 5')\n",
        "  print('K-Medoids with Euclidean')\n",
        "  print(confusion_matrix(y_d2,kMedoid_per_k_cv_s_e[3].labels_))\n",
        "  print('K-Medoids with Cosine')\n",
        "  print(confusion_matrix(y_d2,kMedoid_per_k_cv_s_c[3].labels_))\n",
        "  print('K-Medoids with Manhattan')\n",
        "  print(confusion_matrix(y_d2,kMedoid_per_k_cv_s_m[3].labels_))"
      ],
      "execution_count": null,
      "outputs": [
        {
          "output_type": "stream",
          "text": [
            "Confusion matrix for K = 5\n",
            "K-Medoids with Euclidean\n",
            "[[  0   0   0   0   0   0]\n",
            " [ 78 543 352 135 278   0]\n",
            " [ 79 487 397 155 282   0]\n",
            " [  0   0   0   0   0   0]\n",
            " [106 446 353 121 355   0]\n",
            " [105 489 295 103 342   0]]\n",
            "K-Medoids with Cosine\n",
            "[[  0   0   0   0   0   0]\n",
            " [357 241 197 157 434   0]\n",
            " [324 305 193 192 386   0]\n",
            " [  0   0   0   0   0   0]\n",
            " [257 318 244 252 310   0]\n",
            " [281 307 227 166 353   0]]\n",
            "K-Medoids with Manhattan\n",
            "[[   0    0    0    0    0    0]\n",
            " [   0    0    0    0 1386    0]\n",
            " [   1    1    0    0 1398    0]\n",
            " [   0    0    0    0    0    0]\n",
            " [   0    0    0    1 1380    0]\n",
            " [   0    0    1    0 1333    0]]\n"
          ],
          "name": "stdout"
        }
      ]
    },
    {
      "cell_type": "markdown",
      "metadata": {
        "id": "y-iD8b9bulEZ"
      },
      "source": [
        "### First evaluation"
      ]
    },
    {
      "cell_type": "markdown",
      "metadata": {
        "id": "TTSfdlKKMOl5"
      },
      "source": [
        "**Silhouette coefficient:**\n",
        "\n",
        "For cluster evaluation, silhouette coefficient is selected as an internal measure to evaluate clusters on how well separated the clusters are and how compact clusters are. Value close to 1 indicates good clustering. \n",
        "\n",
        "Overall very less Silhouette score is observed for this dataset."
      ]
    },
    {
      "cell_type": "code",
      "metadata": {
        "id": "NmjVidd1wgmj",
        "colab": {
          "base_uri": "https://localhost:8080/"
        },
        "outputId": "7caca5b3-0f8b-435c-c617-c23e8464e3c4"
      },
      "source": [
        "silhouette_scores_cv = [silhouette_score(X_tfidf, model.labels_) for model in kmeans_per_k_cv]\n",
        "print(silhouette_scores_cv)\n",
        "\n",
        "silhouette_scores_cv_s_m = [silhouette_score(X_tfidf, model.labels_) for model in kMedoid_per_k_cv_s_m]\n",
        "print(silhouette_scores_cv_s_m)\n",
        "\n",
        "silhouette_scores_cv_s_c = [silhouette_score(X_tfidf, model.labels_) for model in kMedoid_per_k_cv_s_c]\n",
        "print(silhouette_scores_cv_s_c)\n",
        "\n",
        "silhouette_scores_cv_s_e = [silhouette_score(X_tfidf, model.labels_) for model in kMedoid_per_k_cv_s_e]\n",
        "print(silhouette_scores_cv_s_e)\n"
      ],
      "execution_count": null,
      "outputs": [
        {
          "output_type": "stream",
          "text": [
            "[0.00338067523665978, 0.005995367166668288, 0.005221529633773911, 0.006550876033669888, 0.006145710973532693, 0.007237823444934222]\n",
            "[-0.010623260912299252, -0.005871171670543009, -0.015903487218663085, -0.01622861986049565, -0.02551311691120572, -0.023248428926587766]\n",
            "[0.002948439526663072, 0.005339660305936627, 0.0010616381726725704, 0.001234552002271102, 0.0018290238067025372, 0.0055688320775330764]\n",
            "[0.0011700883771904784, 0.0011647116143618053, 0.005048137310683891, 0.0014171758292128068, 0.001382747499490244, 0.0008855580285159615]\n"
          ],
          "name": "stdout"
        }
      ]
    },
    {
      "cell_type": "code",
      "metadata": {
        "id": "J8JcuKTu49Ss",
        "colab": {
          "base_uri": "https://localhost:8080/"
        },
        "outputId": "b1b894b0-36c2-4aff-f645-a52f5d488c41"
      },
      "source": [
        "for (i, score) in enumerate(silhouette_scores_cv_s_e, start=2):\n",
        "    print('k=',i, 'silhouette_score: ',score)"
      ],
      "execution_count": null,
      "outputs": [
        {
          "output_type": "stream",
          "text": [
            "k= 2 silhouette_score:  0.0011700883771904784\n",
            "k= 3 silhouette_score:  0.0011647116143618053\n",
            "k= 4 silhouette_score:  0.005048137310683891\n",
            "k= 5 silhouette_score:  0.0014171758292128068\n",
            "k= 6 silhouette_score:  0.001382747499490244\n",
            "k= 7 silhouette_score:  0.0008855580285159615\n"
          ],
          "name": "stdout"
        }
      ]
    },
    {
      "cell_type": "code",
      "metadata": {
        "id": "ys5lLPRZ57AQ",
        "colab": {
          "base_uri": "https://localhost:8080/",
          "height": 283
        },
        "outputId": "657a3796-7838-450b-9fe0-9cfaed125f8f"
      },
      "source": [
        "plt.figure(figsize=(6, 4))\n",
        "plt.plot(range(2, 8), silhouette_scores_cv_s_m, \"bo-\", label='Manhattan')\n",
        "plt.plot(range(2, 8), silhouette_scores_cv_s_c, \"go-\", label='cosine')\n",
        "plt.plot(range(2, 8), silhouette_scores_cv_s_e, \"ro-\", label='Euclidean')\n",
        "plt.xlabel(\"$k$\", fontsize=14)\n",
        "plt.ylabel(\"Silhouette score\", fontsize=14)\n",
        "plt.legend()\n",
        "plt.show()\n"
      ],
      "execution_count": null,
      "outputs": [
        {
          "output_type": "display_data",
          "data": {
            "image/png": "[encoded data removed]",
            "text/plain": [
              "<Figure size 432x288 with 1 Axes>"
            ]
          },
          "metadata": {
            "tags": [],
            "needs_background": "light"
          }
        }
      ]
    },
    {
      "cell_type": "markdown",
      "metadata": {
        "id": "InkaP1GTupgP"
      },
      "source": [
        "### Second evaluation "
      ]
    },
    {
      "cell_type": "markdown",
      "metadata": {
        "id": "gML3l35DtpZD"
      },
      "source": [
        "**Fowlkes-Mallows score:**\n",
        "\n",
        "Fowlkes-Mallows score is a pair-wise measure to measure the similarity of two clusterings. It is a geometric mean of precision and recall. The range is 0 to 1. Value close to 1 indicates two clusterings are equal. <br>\n",
        "When the value is equal to 1, it indicates exactly the same two clusterings.\n",
        "\n",
        "As the ground truth labels are known for the amazon review dataset, we can measure the performance of clusters labels genearted by our model with the actual labels."
      ]
    },
    {
      "cell_type": "code",
      "metadata": {
        "id": "I45iaFDJ_8V-",
        "colab": {
          "base_uri": "https://localhost:8080/"
        },
        "outputId": "c88f07f7-9212-469b-c31d-44ff31af2065"
      },
      "source": [
        "fm_scores_cv_s_m = [fowlkes_mallows_score(y_d2, model.labels_) for model in kMedoid_per_k_cv_s_m]\n",
        "print(fm_scores_cv_s_m)\n",
        "fm_scores_cv_s_c = [fowlkes_mallows_score(y_d2, model.labels_) for model in kMedoid_per_k_cv_s_c]\n",
        "print(fm_scores_cv_s_c)\n",
        "fm_scores_cv_s_e = [fowlkes_mallows_score(y_d2, model.labels_) for model in kMedoid_per_k_cv_s_e]\n",
        "print(fm_scores_cv_s_e)"
      ],
      "execution_count": null,
      "outputs": [
        {
          "output_type": "stream",
          "text": [
            "[0.4998509270491288, 0.49976194663335444, 0.4996765057858927, 0.4995797868085477, 0.49657945657634506, 0.4993984209352835]\n",
            "[0.39688706482175024, 0.33980512162824666, 0.303469711976913, 0.232665428666698, 0.2518058539465707, 0.2488214373462548]\n",
            "[0.3583001804535525, 0.2959890418322955, 0.301451980622218, 0.2553608513277042, 0.23863151902486887, 0.21082787534602213]\n"
          ],
          "name": "stdout"
        }
      ]
    },
    {
      "cell_type": "code",
      "metadata": {
        "id": "tm_SJk71Q3Fy",
        "colab": {
          "base_uri": "https://localhost:8080/",
          "height": 283
        },
        "outputId": "92f5dddd-ff23-4cf1-bed2-5dff683a58c1"
      },
      "source": [
        "\n",
        "plt.figure(figsize=(6, 4))\n",
        "plt.plot(range(2, 8), fm_scores_cv_s_m, \"bo-\", label='Manhattan')\n",
        "plt.plot(range(2, 8), fm_scores_cv_s_c, \"go-\", label='cosine')\n",
        "plt.plot(range(2, 8), fm_scores_cv_s_e, \"ro-\", label='Euclidean')\n",
        "plt.xlabel(\"$k$\", fontsize=14)\n",
        "plt.ylabel(\"Fowlkes-Mallows score\", fontsize=14)\n",
        "plt.legend()\n",
        "plt.show()"
      ],
      "execution_count": null,
      "outputs": [
        {
          "output_type": "display_data",
          "data": {
            "image/png": "[encoded data removed]",
            "text/plain": [
              "<Figure size 432x288 with 1 Axes>"
            ]
          },
          "metadata": {
            "tags": [],
            "needs_background": "light"
          }
        }
      ]
    },
    {
      "cell_type": "markdown",
      "metadata": {
        "id": "BVB6M5-tmVZ6"
      },
      "source": [
        "\n",
        "\n",
        "---\n",
        "\n",
        "\n",
        "# 3. Hierachical Clustering"
      ]
    },
    {
      "cell_type": "markdown",
      "metadata": {
        "id": "4e1rXjiou6Xg"
      },
      "source": [
        "## 3.1 Dataset 1"
      ]
    },
    {
      "cell_type": "markdown",
      "metadata": {
        "id": "lyI1Q-dJmj2D"
      },
      "source": [
        "### Train Hierarchical clustering "
      ]
    },
    {
      "cell_type": "code",
      "metadata": {
        "id": "mbj73SsskwFL",
        "colab": {
          "base_uri": "https://localhost:8080/",
          "height": 443
        },
        "outputId": "53063cc5-320d-4d92-a4d0-09471e6c13d1"
      },
      "source": [
        "## Plot hierarchical clustering dendrogram for edge feature extracted data.\n",
        "\n",
        "plt.figure(figsize=(10, 7))  \n",
        "plt.title(\"Dendrograms\")  \n",
        "dend = shc.dendrogram(shc.linkage(X_prewitt_h2, method='ward'))"
      ],
      "execution_count": null,
      "outputs": [
        {
          "output_type": "display_data",
          "data": {
            "image/png": "[encoded data removed]",
            "text/plain": [
              "<Figure size 720x504 with 1 Axes>"
            ]
          },
          "metadata": {
            "tags": [],
            "needs_background": "light"
          }
        }
      ]
    },
    {
      "cell_type": "markdown",
      "metadata": {
        "id": "LpCh0c3BwCvq"
      },
      "source": [
        "Train hierarchical clustering applying different distance metrics. Evaluating single, average, complete linkage, and select the best distance metrics based on evaluation."
      ]
    },
    {
      "cell_type": "code",
      "metadata": {
        "id": "xt6qfxlgmTB3"
      },
      "source": [
        "## Applying different distance metrics: single, average, complete linkage\n",
        "## choose the best distance metrics based on evaluation.\n",
        "\n",
        "\n",
        "cluster_single = AgglomerativeClustering(n_clusters=10, affinity='euclidean', linkage='single')  \n",
        "y_pred_hier_s = cluster_single.fit_predict(X_prewitt_h2)\n",
        "\n",
        "cluster_average = AgglomerativeClustering(n_clusters=10, affinity='euclidean', linkage='average')  \n",
        "y_pred_hier_a = cluster_average.fit_predict(X_prewitt_h2)\n",
        "\n",
        "cluster_complete = AgglomerativeClustering(n_clusters=10, affinity='euclidean', linkage='complete')  \n",
        "y_pred_hier_c = cluster_complete.fit_predict(X_prewitt_h2)\n",
        "\n",
        "\n"
      ],
      "execution_count": null,
      "outputs": []
    },
    {
      "cell_type": "code",
      "metadata": {
        "id": "ObWx_I5tmTig",
        "colab": {
          "base_uri": "https://localhost:8080/"
        },
        "outputId": "b5cd537a-12c1-4cc7-b08c-60ba32000a68"
      },
      "source": [
        "## Check Fowlkes-Mallows score for each model.\n",
        "print('average-linkage fowlkes_mallows_score:',fowlkes_mallows_score(y,y_pred_hier_a))\n",
        "print('single-linkage fowlkes_mallows_score:',fowlkes_mallows_score(y,y_pred_hier_s))\n",
        "print('complete-linkage fowlkes_mallows_score:',fowlkes_mallows_score(y,y_pred_hier_c))\n",
        "\n"
      ],
      "execution_count": null,
      "outputs": [
        {
          "output_type": "stream",
          "text": [
            "average-linkage fowlkes_mallows_score: 0.31580455671378205\n",
            "single-linkage fowlkes_mallows_score: 0.30656246339405196\n",
            "complete-linkage fowlkes_mallows_score: 0.2590844904063216\n"
          ],
          "name": "stdout"
        }
      ]
    },
    {
      "cell_type": "code",
      "metadata": {
        "id": "qh7CfuY7wbDt",
        "colab": {
          "base_uri": "https://localhost:8080/"
        },
        "outputId": "a4e58d0a-f2ac-4c5f-ff07-bd6c1f81f019"
      },
      "source": [
        "### Check clustering size for each model.\n",
        "\n",
        "print('average-linkage:',np.bincount(y_pred_hier_a))\n",
        "print('complete-linkage:',np.bincount(y_pred_hier_c))\n",
        "print('single-linkage:',np.bincount(y_pred_hier_s))"
      ],
      "execution_count": null,
      "outputs": [
        {
          "output_type": "stream",
          "text": [
            "average-linkage: [ 33  32 534  11  10   1  10   1   7   1]\n",
            "complete-linkage: [204  41  39 245  11   1  22   1  49  27]\n",
            "single-linkage: [622   4   6   2   1   1   1   1   1   1]\n"
          ],
          "name": "stdout"
        }
      ]
    },
    {
      "cell_type": "code",
      "metadata": {
        "id": "IKv82wH5QqbQ"
      },
      "source": [
        "\n",
        "cluster_euclidean = AgglomerativeClustering(n_clusters=10, affinity='euclidean', linkage='average')  \n",
        "y_pred_hier = cluster_euclidean.fit_predict(X_prewitt_h2)"
      ],
      "execution_count": null,
      "outputs": []
    },
    {
      "cell_type": "markdown",
      "metadata": {
        "id": "k7Xuxowjk9mL"
      },
      "source": [
        "**Selection of Best Cluster Distance Metrics**\n",
        "\n",
        "From above evaluation of different cluster distance metrics options, measuring clusters distance using minimum distance between any two points of two clusters (single-linkage), the maximum distance between any two points of two clusters(complete-linkage) and average distance between two points from two clusters(average-linkage). The hierachicial model with average-linkage parameter achieved the best performance."
      ]
    },
    {
      "cell_type": "code",
      "metadata": {
        "id": "PXj2wxY1mTvu"
      },
      "source": [
        "## Trying other two different similarity measures (cosine, and manhattan distance\n",
        "\n",
        "\n",
        "cluster_cosine = AgglomerativeClustering(n_clusters=10, affinity='cosine', linkage='average')  \n",
        "y_pred_hier_cosine = cluster_cosine.fit_predict(X_prewitt_h2)\n",
        "\n",
        "cluster_manhattan = AgglomerativeClustering(n_clusters=10, affinity='manhattan', linkage='average')  \n",
        "y_pred_hier_manhattan = cluster_manhattan.fit_predict(X_prewitt_h2)\n",
        "\n"
      ],
      "execution_count": null,
      "outputs": []
    },
    {
      "cell_type": "code",
      "metadata": {
        "id": "dKOQQoBJwpQY",
        "colab": {
          "base_uri": "https://localhost:8080/"
        },
        "outputId": "1ea1e8b3-40e5-4630-b408-57b866ae6671"
      },
      "source": [
        "### Check clustering size for each model.\n",
        "## average-linkage with cosine distance outputs a more balanced-size clustering.\n",
        "\n",
        "print('cosine distance:',np.bincount(y_pred_hier_cosine))\n",
        "print('manhattan distance:',np.bincount(y_pred_hier_manhattan))"
      ],
      "execution_count": null,
      "outputs": [
        {
          "output_type": "stream",
          "text": [
            "cosine distance: [141  39  54  83  64  64  40  64  45  46]\n",
            "manhattan distance: [  4  32 543  24  26   1   5   1   3   1]\n"
          ],
          "name": "stdout"
        }
      ]
    },
    {
      "cell_type": "code",
      "metadata": {
        "id": "ylabW-7OmT5I",
        "colab": {
          "base_uri": "https://localhost:8080/"
        },
        "outputId": "1ffc26b7-b9f3-42af-ac9e-7a24ae6009f2"
      },
      "source": [
        "## Evaluation of hierarchical clustering (average-linkage,euclidean/cosine/manhattan distance)\n",
        "\n",
        "print('Confusion Matrix: (average-linkage,educlidean distance):\\n',confusion_matrix(y,y_pred_hier))\n",
        "print('\\nFowlkes_mallows_score (average-linkage,educlidean distance):',fowlkes_mallows_score(y,y_pred_hier))\n",
        "\n",
        "\n",
        "print('\\n\\nConfusion Matrix of hierarchical clustering (average-linkage,cosine distance):\\n',confusion_matrix(y,y_pred_hier_cosine))\n",
        "print('\\nFowlkes_mallows_score (average-linkage,cosine distance):',fowlkes_mallows_score(y,y_pred_hier_cosine))\n",
        "\n",
        "\n",
        "print('\\n\\nConfusion Matrix (average-linkage,manhattan distance):\\n',confusion_matrix(y,y_pred_hier_manhattan))\n",
        "print('\\nFowlkes_mallows_score (average-linkage,manhattan distance):',fowlkes_mallows_score(y,y_pred_hier_manhattan))"
      ],
      "execution_count": null,
      "outputs": [
        {
          "output_type": "stream",
          "text": [
            "Confusion Matrix: (average-linkage,educlidean distance):\n",
            " [[ 0  0  0  0  0  0  0  0  0  0  0]\n",
            " [ 0  0 57  0  0  0  0  0  7  0  0]\n",
            " [ 0  0 62  0  0  1  0  1  0  0  0]\n",
            " [ 0  0 64  0  0  0  0  0  0  0  0]\n",
            " [ 0  0 64  0  0  0  0  0  0  0  0]\n",
            " [ 0  0 63  0  0  0  0  0  0  1  0]\n",
            " [ 0 32 22  0  0  0 10  0  0  0  0]\n",
            " [ 0  0 64  0  0  0  0  0  0  0  0]\n",
            " [ 0  0 64  0  0  0  0  0  0  0  0]\n",
            " [ 0  0 64  0  0  0  0  0  0  0  0]\n",
            " [33  0 10 11 10  0  0  0  0  0  0]]\n",
            "\n",
            "Fowlkes_mallows_score (average-linkage,educlidean distance): 0.31580455671378205\n",
            "\n",
            "\n",
            "Confusion Matrix of hierarchical clustering (average-linkage,cosine distance):\n",
            " [[ 0  0  0  0  0  0  0  0  0  0  0]\n",
            " [ 0 11  7  0  0  0  0  0  0 46  0]\n",
            " [ 0  0  0  0  0 64  0  0  0  0  0]\n",
            " [52  5  7  0  0  0  0  0  0  0  0]\n",
            " [ 0  3  0 45  0  0 16  0  0  0  0]\n",
            " [ 0  0  0  0 64  0  0  0  0  0  0]\n",
            " [50  7  7  0  0  0  0  0  0  0  0]\n",
            " [ 0  1  1 38  0  0 24  0  0  0  0]\n",
            " [ 0  3 16  0  0  0  0  0 45  0  0]\n",
            " [ 0  0  0  0  0  0  0 64  0  0  0]\n",
            " [39  9 16  0  0  0  0  0  0  0  0]]\n",
            "\n",
            "Fowlkes_mallows_score (average-linkage,cosine distance): 0.6273578785098487\n",
            "\n",
            "\n",
            "Confusion Matrix (average-linkage,manhattan distance):\n",
            " [[ 0  0  0  0  0  0  0  0  0  0  0]\n",
            " [ 0  0 59  0  0  0  5  0  0  0  0]\n",
            " [ 0  0 62  0  0  1  0  1  0  0  0]\n",
            " [ 2  0 36  0 26  0  0  0  0  0  0]\n",
            " [ 0  0 64  0  0  0  0  0  0  0  0]\n",
            " [ 0  0 63  0  0  0  0  0  0  1  0]\n",
            " [ 0 32 29  0  0  0  0  0  3  0  0]\n",
            " [ 0  0 64  0  0  0  0  0  0  0  0]\n",
            " [ 0  0 64  0  0  0  0  0  0  0  0]\n",
            " [ 0  0 64  0  0  0  0  0  0  0  0]\n",
            " [ 2  0 38 24  0  0  0  0  0  0  0]]\n",
            "\n",
            "Fowlkes_mallows_score (average-linkage,manhattan distance): 0.3012472950847745\n"
          ],
          "name": "stdout"
        }
      ]
    },
    {
      "cell_type": "markdown",
      "metadata": {
        "id": "u06Odf2RvATE"
      },
      "source": [
        "### First evaluation "
      ]
    },
    {
      "cell_type": "code",
      "metadata": {
        "id": "VVfgVyabw4Z0",
        "colab": {
          "base_uri": "https://localhost:8080/"
        },
        "outputId": "72ce879b-ee64-435a-dc6a-4deaf968e4fd"
      },
      "source": [
        "## Homogeneity is a metric to measure the purity of a cluster which only include \n",
        "## data points from one cluster.\n",
        "## From the above confusion matrix, the output of agglomerative clustering with average-linkage \n",
        "## and cosine distance illustrates good homogeneity that all clusters only include data points \n",
        "## from one class. Therefore, we will use homogeneity to check the purity of these clustering model.\n",
        "## Homogeneity score ranges from 0 to 1, 1 means perfect homogeneous clustering.\n",
        "\n",
        "from sklearn.metrics.cluster import homogeneity_score\n",
        "print('homogeneity score average-linkage,euclidean:',homogeneity_score(y,y_pred_hier))\n",
        "print('homogeneity sxore average_linkage,cosine:',homogeneity_score(y,y_pred_hier_cosine))\n"
      ],
      "execution_count": null,
      "outputs": [
        {
          "output_type": "stream",
          "text": [
            "homogeneity score average-linkage,euclidean: 0.1962116649023166\n",
            "homogeneity sxore average_linkage,cosine: 0.7338103568790822\n"
          ],
          "name": "stdout"
        }
      ]
    },
    {
      "cell_type": "code",
      "metadata": {
        "id": "FXyYaPBs1Iwy",
        "colab": {
          "base_uri": "https://localhost:8080/"
        },
        "outputId": "55e1ef8b-8d49-41d8-9329-15b7207b1544"
      },
      "source": [
        "\n",
        "print('Fowlkes_mallows_score (average-linkage,educlidean distance):',fowlkes_mallows_score(y,y_pred_hier))\n",
        "print('Fowlkes_mallows_score (average-linkage,cosine distance):',fowlkes_mallows_score(y,y_pred_hier_cosine))\n",
        "print('Fowlkes_mallows_score (average-linkage,manhattan distance):',fowlkes_mallows_score(y,y_pred_hier_manhattan))"
      ],
      "execution_count": null,
      "outputs": [
        {
          "output_type": "stream",
          "text": [
            "Fowlkes_mallows_score (average-linkage,educlidean distance): 0.31580455671378205\n",
            "Fowlkes_mallows_score (average-linkage,cosine distance): 0.6273578785098487\n",
            "Fowlkes_mallows_score (average-linkage,manhattan distance): 0.3012472950847745\n"
          ],
          "name": "stdout"
        }
      ]
    },
    {
      "cell_type": "code",
      "metadata": {
        "id": "9kmz0pOCw2RR"
      },
      "source": [
        ""
      ],
      "execution_count": null,
      "outputs": []
    },
    {
      "cell_type": "markdown",
      "metadata": {
        "id": "NP2DhEZQvE5U"
      },
      "source": [
        "### Second evaluation "
      ]
    },
    {
      "cell_type": "code",
      "metadata": {
        "id": "MMhTt2Svkbz-",
        "colab": {
          "base_uri": "https://localhost:8080/"
        },
        "outputId": "5e373418-3ee7-4ea0-edf6-01e155cd13f5"
      },
      "source": [
        "## Silhouette score\n",
        "\n",
        "print('silhouette score (euclidean):',silhouette_score(X_prewitt_h2,y_pred_hier))\n",
        "print('silhouette score (cosine):',silhouette_score(X_prewitt_h2,y_pred_hier_cosine))\n",
        "print('silhouette score (manhattan):',silhouette_score(X_prewitt_h2,y_pred_hier_manhattan))\n"
      ],
      "execution_count": null,
      "outputs": [
        {
          "output_type": "stream",
          "text": [
            "silhouette score (euclidean): 0.09500276170757732\n",
            "silhouette score (cosine): 0.04595073856936624\n",
            "silhouette score (manhattan): 0.0845254358875692\n"
          ],
          "name": "stdout"
        }
      ]
    },
    {
      "cell_type": "markdown",
      "metadata": {
        "id": "VltnIWtBmqID"
      },
      "source": [
        "## 3.2 Dataset 2"
      ]
    },
    {
      "cell_type": "markdown",
      "metadata": {
        "id": "fcVNl0dOvUsq"
      },
      "source": [
        "### Train Hierarchical clustering "
      ]
    },
    {
      "cell_type": "markdown",
      "metadata": {
        "id": "eGFmSnWqdAO3"
      },
      "source": [
        "Agglomerative clustering is applied for all combinations of affinity (euclidean, cosine and manhattan) and linkage (single, average and complete) for k in range 3 to 5.\n",
        "\n",
        "When Agglomerative was applied on data with TF-IDF vectorisation, all points were getting assigned to a single cluster. We tried data with features extracted using CountVectorizer. But there was not improvement. Agglomerative clustering does not seem to be suitable for sparse data as compared to the partition based clustering. More advanced feature extractors need to be applied before applying this method."
      ]
    },
    {
      "cell_type": "code",
      "metadata": {
        "id": "tCcBxQaGvYgO"
      },
      "source": [
        "agg_per_k_c_s = [AgglomerativeClustering(n_clusters=k, affinity='cosine', \n",
        "                                     linkage='single').fit(X_cv.toarray())\n",
        "                for k in range(3, 6)]\n",
        "agg_per_k_c_a = [AgglomerativeClustering(n_clusters=k, affinity='cosine', \n",
        "                                     linkage='average').fit(X_cv.toarray())\n",
        "                for k in range(3, 6)]\n",
        "agg_per_k_c_c = [AgglomerativeClustering(n_clusters=k, affinity='cosine', \n",
        "                                     linkage='complete').fit(X_cv.toarray())\n",
        "                for k in range(3, 6)]\n",
        "\n",
        "agg_per_k_e_s = [AgglomerativeClustering(n_clusters=k, affinity='euclidean', \n",
        "                                     linkage='single').fit(X_cv.toarray())\n",
        "                for k in range(3, 6)]\n",
        "agg_per_k_e_a = [AgglomerativeClustering(n_clusters=k, affinity='euclidean', \n",
        "                                     linkage='average').fit(X_cv.toarray())\n",
        "                for k in range(3, 6)]\n",
        "agg_per_k_e_c = [AgglomerativeClustering(n_clusters=k, affinity='euclidean', \n",
        "                                     linkage='complete').fit(X_cv.toarray())\n",
        "                for k in range(3, 6)]\n",
        "\n",
        "agg_per_k_m_s = [AgglomerativeClustering(n_clusters=k, affinity='manhattan', \n",
        "                                     linkage='single').fit(X_cv.toarray())\n",
        "                for k in range(3, 6)]\n",
        "agg_per_k_m_a = [AgglomerativeClustering(n_clusters=k, affinity='manhattan', \n",
        "                                     linkage='average').fit(X_cv.toarray())\n",
        "                for k in range(3, 6)]\n",
        "agg_per_k_m_c = [AgglomerativeClustering(n_clusters=k, affinity='manhattan', \n",
        "                                     linkage='complete').fit(X_cv.toarray())\n",
        "                for k in range(3, 6)]"
      ],
      "execution_count": null,
      "outputs": []
    },
    {
      "cell_type": "markdown",
      "metadata": {
        "id": "8b6JvPUfm4Q-"
      },
      "source": [
        "### First evaluation"
      ]
    },
    {
      "cell_type": "markdown",
      "metadata": {
        "id": "hWSFhWeDcSuX"
      },
      "source": [
        "Fowlkes-Mallows scores are calculated for all 9 models. <br> \n",
        "As almost all points are mapped to a single cluster, all 9 models have similar Fowlkes-Mallows score of 0.49 <br>"
      ]
    },
    {
      "cell_type": "code",
      "metadata": {
        "id": "Wa96huyXLE9s",
        "colab": {
          "base_uri": "https://localhost:8080/",
          "height": 522
        },
        "outputId": "70f6bada-aff5-418c-a183-e1f48a8fdf9f"
      },
      "source": [
        "fowlkes_mallows_e_s = [fowlkes_mallows_score(y_d2, model.labels_)\n",
        "                     for model in agg_per_k_e_s]\n",
        "print('affinity=euclidean and linkage=single:\\n', fowlkes_mallows_e_s)\n",
        "fowlkes_mallows_e_a = [fowlkes_mallows_score(y_d2, model.labels_)\n",
        "                     for model in agg_per_k_e_a]\n",
        "print('affinity=euclidean and linkage=average:\\n', fowlkes_mallows_e_a)\n",
        "fowlkes_mallows_e_c = [fowlkes_mallows_score(y_d2, model.labels_)\n",
        "                     for model in agg_per_k_e_c]\n",
        "print('affinity=euclidean and linkage=complete:\\n', fowlkes_mallows_e_c)\n",
        "\n",
        "fowlkes_mallows_c_s = [fowlkes_mallows_score(y_d2, model.labels_)\n",
        "                     for model in agg_per_k_c_s]\n",
        "print('affinity=cosine and linkage=single:\\n', fowlkes_mallows_c_s)\n",
        "fowlkes_mallows_c_a = [fowlkes_mallows_score(y_d2, model.labels_)\n",
        "                     for model in agg_per_k_c_a]\n",
        "print('affinity=cosine and linkage=average:\\n', fowlkes_mallows_c_a)\n",
        "fowlkes_mallows_c_c = [fowlkes_mallows_score(y_d2, model.labels_)\n",
        "                     for model in agg_per_k_c_c]\n",
        "print('affinity=cosine and linkage=complete:\\n', fowlkes_mallows_c_c)\n",
        "\n",
        "fowlkes_mallows_m_s = [fowlkes_mallows_score(y_d2, model.labels_)\n",
        "                     for model in agg_per_k_m_s]\n",
        "print('affinity=manhattan and linkage=single:\\n', fowlkes_mallows_m_s)\n",
        "fowlkes_mallows_m_a = [fowlkes_mallows_score(y_d2, model.labels_)\n",
        "                     for model in agg_per_k_m_a]\n",
        "print('affinity=manhattan and linkage=average:\\n', fowlkes_mallows_m_a)\n",
        "fowlkes_mallows_m_c = [fowlkes_mallows_score(y_d2, model.labels_)\n",
        "                     for model in agg_per_k_m_c]\n",
        "print('affinity=manhattan and linkage=complete:\\n', fowlkes_mallows_m_c)\n",
        "\n",
        "\n",
        "plt.figure(figsize=(8, 3))\n",
        "plt.plot(range(2, 5), fowlkes_mallows_e_s, \"bo-\")\n",
        "plt.xlabel(\"$k$\", fontsize=14)\n",
        "plt.ylabel(\"fowlkes-Mallows score\", fontsize=14)\n",
        "plt.show() "
      ],
      "execution_count": null,
      "outputs": [
        {
          "output_type": "stream",
          "text": [
            "affinity=euclidean and linkage=single:\n",
            " [0.49975692037346564, 0.49966301179206846, 0.4995713184484913]\n",
            "affinity=euclidean and linkage=average:\n",
            " [0.49975692037346564, 0.49966301179206846, 0.49957065685786184]\n",
            "affinity=euclidean and linkage=complete:\n",
            " [0.499759301233413, 0.4996652607910391, 0.4995713184484913]\n",
            "affinity=cosine and linkage=single:\n",
            " [0.49976551792327545, 0.4996714786117229, 0.4995861380785901]\n",
            "affinity=cosine and linkage=average:\n",
            " [0.49929668356234885, 0.4980118578961285, 0.49682763674761754]\n",
            "affinity=cosine and linkage=complete:\n",
            " [0.4113052863213206, 0.4038307073870394, 0.3960925376892359]\n",
            "affinity=manhattan and linkage=single:\n",
            " [0.4997586398834276, 0.4996645993207537, 0.4995791252179183]\n",
            "affinity=manhattan and linkage=average:\n",
            " [0.4997586398834276, 0.4996645993207537, 0.4995791252179183]\n",
            "affinity=manhattan and linkage=complete:\n",
            " [0.49975692037346564, 0.4996645993207537, 0.4995723769934983]\n"
          ],
          "name": "stdout"
        },
        {
          "output_type": "display_data",
          "data": {
            "image/png": "[encoded data removed]",
            "text/plain": [
              "<Figure size 576x216 with 1 Axes>"
            ]
          },
          "metadata": {
            "tags": [],
            "needs_background": "light"
          }
        }
      ]
    },
    {
      "cell_type": "markdown",
      "metadata": {
        "id": "jxhZGBnSm98d"
      },
      "source": [
        "### Second evalaution "
      ]
    },
    {
      "cell_type": "markdown",
      "metadata": {
        "id": "tgYJDm1qceOk"
      },
      "source": [
        "**Calinski Harabasz score:**\n",
        "\n",
        "For Agglomerative clustering evaluation, Calinski Harabasz score is selected as an internal measure which is also known as Variance Ratio Criterion. It is a ratio of sum between clusters dispersion (sum of distances squared) and of within cluster dispersion. Score is higher when clusters are dense and well separated. As almost all points are assigned to a single cluster, score is low for all models. "
      ]
    },
    {
      "cell_type": "code",
      "metadata": {
        "colab": {
          "base_uri": "https://localhost:8080/",
          "height": 523
        },
        "id": "FUY14FptXQEd",
        "outputId": "009fa5db-1c00-42bb-daab-d99a3fe4f580"
      },
      "source": [
        "from sklearn.metrics import calinski_harabasz_score, davies_bouldin_score\n",
        "\n",
        "calinski_harabasz_e_s = [calinski_harabasz_score(X_cv.toarray(), model.labels_)\n",
        "                     for model in agg_per_k_e_s]\n",
        "print('affinity=euclidean and linkage=single:\\n', fowlkes_mallows_e_s)\n",
        "calinski_harabasz_e_a = [calinski_harabasz_score(X_cv.toarray(), model.labels_)\n",
        "                     for model in agg_per_k_e_a]\n",
        "print('affinity=euclidean and linkage=average:\\n', fowlkes_mallows_e_a)\n",
        "calinski_harabasz_e_c = [calinski_harabasz_score(X_cv.toarray(), model.labels_)\n",
        "                     for model in agg_per_k_e_c]\n",
        "print('affinity=euclidean and linkage=complete:\\n', fowlkes_mallows_e_c)\n",
        "\n",
        "calinski_harabasz_c_s = [calinski_harabasz_score(X_cv.toarray(), model.labels_)\n",
        "                     for model in agg_per_k_c_s]\n",
        "print('affinity=cosine and linkage=single:\\n', fowlkes_mallows_c_s)\n",
        "calinski_harabasz_c_a = [calinski_harabasz_score(X_cv.toarray(), model.labels_)\n",
        "                     for model in agg_per_k_c_a]\n",
        "print('affinity=cosine and linkage=average:\\n', fowlkes_mallows_c_a)\n",
        "calinski_harabasz_c_c = [calinski_harabasz_score(X_cv.toarray(), model.labels_)\n",
        "                     for model in agg_per_k_c_c]\n",
        "print('affinity=cosine and linkage=complete:\\n', fowlkes_mallows_c_c)\n",
        "\n",
        "calinski_harabasz_m_s = [calinski_harabasz_score(X_cv.toarray(), model.labels_)\n",
        "                     for model in agg_per_k_m_s]\n",
        "print('affinity=manhattan and linkage=single:\\n', fowlkes_mallows_m_s)\n",
        "calinski_harabasz_m_a = [calinski_harabasz_score(X_cv.toarray(), model.labels_)\n",
        "                     for model in agg_per_k_m_a]\n",
        "print('affinity=manhattan and linkage=average:\\n', fowlkes_mallows_m_a)\n",
        "calinski_harabasz_m_c = [calinski_harabasz_score(X_cv.toarray(), model.labels_)\n",
        "                     for model in agg_per_k_m_c]\n",
        "print('affinity=manhattan and linkage=complete:\\n', fowlkes_mallows_m_c)\n",
        "\n",
        "\n",
        "plt.figure(figsize=(8, 3))\n",
        "plt.plot(range(3, 6), fowlkes_mallows_e_s, \"bo-\")\n",
        "plt.xlabel(\"$k$\", fontsize=14)\n",
        "plt.ylabel(\"calinski_harabasz score\", fontsize=14)\n",
        "plt.show() "
      ],
      "execution_count": null,
      "outputs": [
        {
          "output_type": "stream",
          "text": [
            "affinity=euclidean and linkage=single:\n",
            " [0.49975692037346564, 0.49966301179206846, 0.4995713184484913]\n",
            "affinity=euclidean and linkage=average:\n",
            " [0.49975692037346564, 0.49966301179206846, 0.49957065685786184]\n",
            "affinity=euclidean and linkage=complete:\n",
            " [0.499759301233413, 0.4996652607910391, 0.4995713184484913]\n",
            "affinity=cosine and linkage=single:\n",
            " [0.49976551792327545, 0.4996714786117229, 0.4995861380785901]\n",
            "affinity=cosine and linkage=average:\n",
            " [0.49929668356234885, 0.4980118578961285, 0.49682763674761754]\n",
            "affinity=cosine and linkage=complete:\n",
            " [0.4113052863213206, 0.4038307073870394, 0.3960925376892359]\n",
            "affinity=manhattan and linkage=single:\n",
            " [0.4997586398834276, 0.4996645993207537, 0.4995791252179183]\n",
            "affinity=manhattan and linkage=average:\n",
            " [0.4997586398834276, 0.4996645993207537, 0.4995791252179183]\n",
            "affinity=manhattan and linkage=complete:\n",
            " [0.49975692037346564, 0.4996645993207537, 0.4995723769934983]\n"
          ],
          "name": "stdout"
        },
        {
          "output_type": "display_data",
          "data": {
            "image/png": "[encoded data removed]",
            "text/plain": [
              "<Figure size 576x216 with 1 Axes>"
            ]
          },
          "metadata": {
            "tags": [],
            "needs_background": "light"
          }
        }
      ]
    },
    {
      "cell_type": "code",
      "metadata": {
        "colab": {
          "base_uri": "https://localhost:8080/"
        },
        "id": "Yd8MpBgwcDL3",
        "outputId": "71b75d4c-d43c-41af-a817-ae3d9feb6156"
      },
      "source": [
        "  print(confusion_matrix(y_d2,agg_per_k_m_c[1].labels_))\n",
        "  print()\n",
        "  print(confusion_matrix(y_d2,agg_per_k_c_a[1].labels_))\n",
        "  print()\n",
        "  print(confusion_matrix(y_d2,agg_per_k_e_s[1].labels_))"
      ],
      "execution_count": null,
      "outputs": [
        {
          "output_type": "stream",
          "text": [
            "[[   0    0    0    0    0    0]\n",
            " [1385    1    0    0    0    0]\n",
            " [1398    0    1    1    0    0]\n",
            " [   0    0    0    0    0    0]\n",
            " [1381    0    0    0    0    0]\n",
            " [1334    0    0    0    0    0]]\n",
            "\n",
            "[[   0    0    0    0    0    0]\n",
            " [1374    8    2    2    0    0]\n",
            " [1394    4    2    0    0    0]\n",
            " [   0    0    0    0    0    0]\n",
            " [1379    1    0    1    0    0]\n",
            " [1333    1    0    0    0    0]]\n",
            "\n",
            "[[   0    0    0    0    0    0]\n",
            " [1386    0    0    0    0    0]\n",
            " [1397    1    1    1    0    0]\n",
            " [   0    0    0    0    0    0]\n",
            " [1381    0    0    0    0    0]\n",
            " [1334    0    0    0    0    0]]\n"
          ],
          "name": "stdout"
        }
      ]
    },
    {
      "cell_type": "markdown",
      "metadata": {
        "id": "do-r947ZnGTQ"
      },
      "source": [
        "\n",
        "\n",
        "---\n",
        "\n",
        "\n",
        "# 4. Spectral Clustering"
      ]
    },
    {
      "cell_type": "markdown",
      "metadata": {
        "id": "QxvlRqgovlC7"
      },
      "source": [
        "## 4.1 Dataset 1"
      ]
    },
    {
      "cell_type": "markdown",
      "metadata": {
        "id": "2rJ2wmllvrmR"
      },
      "source": [
        "### Train Sprectral clustering "
      ]
    },
    {
      "cell_type": "code",
      "metadata": {
        "id": "WyfMLCq5oXED",
        "colab": {
          "base_uri": "https://localhost:8080/"
        },
        "outputId": "2e5b8e41-fd0a-41e2-ef32-15e6c3ce2fed"
      },
      "source": [
        "## spectral clustering model with default parameters\n",
        "model = SpectralClustering(n_clusters=10, affinity='nearest_neighbors',\n",
        "                           assign_labels='kmeans')\n",
        "model = model.fit(X_prewitt_h2)\n",
        "labels = model.labels_\n",
        "\n",
        "print(set(labels))"
      ],
      "execution_count": null,
      "outputs": [
        {
          "output_type": "stream",
          "text": [
            "{0, 1, 2, 3, 4, 5, 6, 7, 8, 9}\n"
          ],
          "name": "stdout"
        }
      ]
    },
    {
      "cell_type": "code",
      "metadata": {
        "id": "aJTjviahit-W",
        "colab": {
          "base_uri": "https://localhost:8080/"
        },
        "outputId": "5823507a-9efa-4d13-ddb2-f78949c22ed0"
      },
      "source": [
        "params_gama = [0.001, 0.1, 5]\n",
        "#hyperparams = (gamma1, C1), (gamma1, C2), (gamma2, C1), (gamma2, C2)\n",
        "spectral_clst = []\n",
        "for gamma in params_gama:\n",
        "    model = SpectralClustering(n_clusters=10,affinity='rbf',gamma=gamma)\n",
        "    model.fit(X_prewitt_h2)\n",
        "    spectral_clst.append(model)"
      ],
      "execution_count": null,
      "outputs": [
        {
          "output_type": "stream",
          "text": [
            "/usr/local/lib/python3.7/dist-packages/sklearn/manifold/_spectral_embedding.py:245: UserWarning: Graph is not fully connected, spectral embedding may not work as expected.\n",
            "  warnings.warn(\"Graph is not fully connected, spectral embedding\"\n"
          ],
          "name": "stderr"
        }
      ]
    },
    {
      "cell_type": "code",
      "metadata": {
        "id": "KLz3ffjKiuCm",
        "colab": {
          "base_uri": "https://localhost:8080/"
        },
        "outputId": "b93c47c2-d320-41a3-d3ce-76be9b19274d"
      },
      "source": [
        "for model in spectral_clst:\n",
        "  print(model.labels_[:20])\n",
        "  print(fowlkes_mallows_score(y,model.labels_))\n",
        "  print(confusion_matrix(y,model.labels_))"
      ],
      "execution_count": null,
      "outputs": [
        {
          "output_type": "stream",
          "text": [
            "[1 5 5 5 5 5 5 5 5 5 5 5 1 5 5 9 5 5 5 1]\n",
            "0.3285821192741429\n",
            "[[ 0  0  0  0  0  0  0  0  0  0  0]\n",
            " [ 0 13  0 36  0  0  9  0  0  6  0]\n",
            " [ 0 17  0  0  0 38  3  0  0  6  0]\n",
            " [28 20  0  0  0  0  7  0  0  9  0]\n",
            " [ 0 23  0  0  0  0  0 41  0  0  0]\n",
            " [ 0 21  0  0  0  0  1  0 41  1  0]\n",
            " [ 0  8  0  0 29  0 13  0  0 14  0]\n",
            " [ 0 27  0  0  0  0  0 33  0  4  0]\n",
            " [ 0 39  0  0  0  0 14  0  0 11  0]\n",
            " [ 0 13 39  0  0  0  5  0  0  7  0]\n",
            " [27 11  0  0  0  0 14  0  0 12  0]]\n",
            "[1 9 9 9 9 9 9 9 9 1 9 9 1 9 9 1 9 9 9 1]\n",
            "0.2989209178460156\n",
            "[[ 0  0  0  0  0  0  0  0  0  0  0]\n",
            " [ 0 64  0  0  0  0  0  0  0  0  0]\n",
            " [ 0 32  0  0  0  0  0  0  0 32  0]\n",
            " [ 0 64  0  0  0  0  0  0  0  0  0]\n",
            " [ 0 64  0  0  0  0  0  0  0  0  0]\n",
            " [ 0 41  0  0 13  0 10  0  0  0  0]\n",
            " [ 0 38  0  0  0  0  0  5 21  0  0]\n",
            " [ 0 64  0  0  0  0  0  0  0  0  0]\n",
            " [ 0 64  0  0  0  0  0  0  0  0  0]\n",
            " [41 23  0  0  0  0  0  0  0  0  0]\n",
            " [ 0 45  6  3  0 10  0  0  0  0  0]]\n",
            "[0 0 0 0 0 0 0 0 0 0 0 0 0 0 0 0 0 0 0 0]\n",
            "0.3086946111149514\n",
            "[[ 0  0  0  0  0  0  0  0  0  0  0]\n",
            " [61  0  0  0  1  0  0  0  0  2  0]\n",
            " [64  0  0  0  0  0  0  0  0  0  0]\n",
            " [63  0  0  0  0  1  0  0  0  0  0]\n",
            " [64  0  0  0  0  0  0  0  0  0  0]\n",
            " [63  0  0  0  0  0  1  0  0  0  0]\n",
            " [62  0  0  0  0  0  0  0  2  0  0]\n",
            " [64  0  0  0  0  0  0  0  0  0  0]\n",
            " [64  0  0  0  0  0  0  0  0  0  0]\n",
            " [64  0  0  0  0  0  0  0  0  0  0]\n",
            " [60  1  1  1  0  0  0  1  0  0  0]]\n"
          ],
          "name": "stdout"
        }
      ]
    },
    {
      "cell_type": "code",
      "metadata": {
        "id": "u_sj9Dl6iuFn",
        "colab": {
          "base_uri": "https://localhost:8080/"
        },
        "outputId": "27accb28-98bd-40b5-a42b-38b36335e903"
      },
      "source": [
        "knn_k = [1,3,5,7]\n",
        "spectral_clst2 = []\n",
        "for k in knn_k:\n",
        "    model = SpectralClustering(n_clusters=10,affinity='nearest_neighbors',n_neighbors=k)\n",
        "    model.fit(X_prewitt_h2)\n",
        "    spectral_clst2.append(model)"
      ],
      "execution_count": null,
      "outputs": [
        {
          "output_type": "stream",
          "text": [
            "/usr/local/lib/python3.7/dist-packages/sklearn/manifold/_spectral_embedding.py:245: UserWarning: Graph is not fully connected, spectral embedding may not work as expected.\n",
            "  warnings.warn(\"Graph is not fully connected, spectral embedding\"\n",
            "/usr/local/lib/python3.7/dist-packages/sklearn/manifold/_spectral_embedding.py:245: UserWarning: Graph is not fully connected, spectral embedding may not work as expected.\n",
            "  warnings.warn(\"Graph is not fully connected, spectral embedding\"\n",
            "/usr/local/lib/python3.7/dist-packages/sklearn/manifold/_spectral_embedding.py:245: UserWarning: Graph is not fully connected, spectral embedding may not work as expected.\n",
            "  warnings.warn(\"Graph is not fully connected, spectral embedding\"\n"
          ],
          "name": "stderr"
        }
      ]
    },
    {
      "cell_type": "code",
      "metadata": {
        "id": "3WEomdyNiuIl",
        "colab": {
          "base_uri": "https://localhost:8080/"
        },
        "outputId": "1c9ec6c6-e39a-46f6-bf5c-65df6a24a073"
      },
      "source": [
        "for model in spectral_clst2:\n",
        "  print(model.labels_[:20])\n",
        "  print(fowlkes_mallows_score(y,model.labels_))\n",
        "  print(confusion_matrix(y,model.labels_))"
      ],
      "execution_count": null,
      "outputs": [
        {
          "output_type": "stream",
          "text": [
            "[0 0 0 2 0 0 0 0 0 0 0 1 1 1 0 0 0 0 0 6]\n",
            "0.2488470568164839\n",
            "[[ 0  0  0  0  0  0  0  0  0  0  0]\n",
            " [51  5  0  0  2  2  3  0  1  0  0]\n",
            " [46 12  1  0  0  1  4  0  0  0  0]\n",
            " [47  7  1  1  0  1  7  0  0  0  0]\n",
            " [53  7  1  0  0  0  2  1  0  0  0]\n",
            " [50  4  1  0  0  0  5  0  1  3  0]\n",
            " [52  5  2  0  0  0  4  0  1  0  0]\n",
            " [48  5  1  0  0  1  8  0  1  0  0]\n",
            " [55  5  0  0  0  0  2  0  0  2  0]\n",
            " [50  5  0  0  0  0  7  0  2  0  0]\n",
            " [50  7  1  0  1  0  3  0  1  1  0]]\n",
            "[2 7 7 7 7 7 7 7 7 2 7 7 2 2 7 2 7 7 7 2]\n",
            "0.2888484315407933\n",
            "[[ 0  0  0  0  0  0  0  0  0  0  0]\n",
            " [28  0 36  0  0  0  0  0  0  0  0]\n",
            " [ 0  0 37  0  0  0  0 27  0  0  0]\n",
            " [ 0  0 64  0  0  0  0  0  0  0  0]\n",
            " [ 0  0 51  0 13  0  0  0  0  0  0]\n",
            " [ 0  0 51  0  0 13  0  0  0  0  0]\n",
            " [ 0  0 24 40  0  0  0  0  0  0  0]\n",
            " [ 0  0 35  0  0  0  0  0 29  0  0]\n",
            " [ 0 22 42  0  0  0  0  0  0  0  0]\n",
            " [ 0  0 29  0  0  0 35  0  0  0  0]\n",
            " [ 0  0 58  0  0  0  0  0  0  6  0]]\n",
            "[5 6 6 6 6 6 6 6 6 6 6 6 6 6 6 6 6 6 6 5]\n",
            "0.42193860518858933\n",
            "[[ 0  0  0  0  0  0  0  0  0  0  0]\n",
            " [ 0  0  0  0  0 14  0 50  0  0  0]\n",
            " [ 0  0  0  0  0 16 48  0  0  0  0]\n",
            " [ 0  0 47  0  0 17  0  0  0  0  0]\n",
            " [ 0  0  0  0  0 64  0  0  0  0  0]\n",
            " [ 0  0  0  0  0 51  0  0 13  0  0]\n",
            " [46  0  0  0  0 18  0  0  0  0  0]\n",
            " [ 0  0  0 50  0 14  0  0  0  0  0]\n",
            " [ 0 32  0  0  0 32  0  0  0  0  0]\n",
            " [ 0  0  0  0 50 14  0  0  0  0  0]\n",
            " [ 0  0  0  0  0 58  0  0  0  6  0]]\n",
            "[1 7 7 7 7 7 7 7 7 7 7 7 7 7 7 7 7 7 7 1]\n",
            "0.45373276938393503\n",
            "[[ 0  0  0  0  0  0  0  0  0  0  0]\n",
            " [ 0 16  0  0 48  0  0  0  0  0  0]\n",
            " [ 0 21  0  0  0  0  0 43  0  0  0]\n",
            " [44 20  0  0  0  0  0  0  0  0  0]\n",
            " [ 0 15  0  0  0  0  0  0 49  0  0]\n",
            " [ 0 51  0 13  0  0  0  0  0  0  0]\n",
            " [ 0 21  0  0  0  0  0  0  0 43  0]\n",
            " [ 0 16  0  0  0  0 48  0  0  0  0]\n",
            " [ 0 16  0  0  0 48  0  0  0  0  0]\n",
            " [ 0 15 49  0  0  0  0  0  0  0  0]\n",
            " [ 0 64  0  0  0  0  0  0  0  0  0]]\n"
          ],
          "name": "stdout"
        }
      ]
    },
    {
      "cell_type": "markdown",
      "metadata": {
        "id": "dq78gTg-mScV"
      },
      "source": [
        "From above output, the optimal values we explored is affinity matrix using k-nearest neighbour connectivity matrix and k=7."
      ]
    },
    {
      "cell_type": "code",
      "metadata": {
        "id": "iOYojwEziuOP",
        "colab": {
          "base_uri": "https://localhost:8080/"
        },
        "outputId": "1e6fc180-9475-451a-ed3f-df21a0619ced"
      },
      "source": [
        "spectral_cluster = SpectralClustering(n_clusters=10,affinity='nearest_neighbors',n_neighbors=7)\n",
        "spectral_cluster.fit(X_prewitt_h2)"
      ],
      "execution_count": null,
      "outputs": [
        {
          "output_type": "execute_result",
          "data": {
            "text/plain": [
              "SpectralClustering(affinity='nearest_neighbors', n_clusters=10, n_neighbors=7)"
            ]
          },
          "metadata": {
            "tags": []
          },
          "execution_count": 65
        }
      ]
    },
    {
      "cell_type": "markdown",
      "metadata": {
        "id": "KxeyDFICvw9b"
      },
      "source": [
        "### First evaluation"
      ]
    },
    {
      "cell_type": "code",
      "metadata": {
        "id": "ADYzs6VpjjhD",
        "colab": {
          "base_uri": "https://localhost:8080/"
        },
        "outputId": "437a593b-fcb0-456b-f8b0-34fab7859d7c"
      },
      "source": [
        "print('Fowlkes_mallows score for Spectral Clustering:',fowlkes_mallows_score(y,spectral_cluster.labels_))"
      ],
      "execution_count": null,
      "outputs": [
        {
          "output_type": "stream",
          "text": [
            "Fowlkes_mallows score for Spectral Clustering: 0.4557087848686174\n"
          ],
          "name": "stdout"
        }
      ]
    },
    {
      "cell_type": "markdown",
      "metadata": {
        "id": "Bjhyvv9Qv0rP"
      },
      "source": [
        "### Second evaluation "
      ]
    },
    {
      "cell_type": "code",
      "metadata": {
        "id": "Sn9w4FmajfUY",
        "colab": {
          "base_uri": "https://localhost:8080/"
        },
        "outputId": "d4b2baff-dae1-4f33-bbf6-febba015ead9"
      },
      "source": [
        "print('Silhouette score for Spectral Clustering:',silhouette_score(X_prewitt_h2,spectral_cluster.labels_))"
      ],
      "execution_count": null,
      "outputs": [
        {
          "output_type": "stream",
          "text": [
            "Silhouette score for Spectral Clustering: 0.06851481245317936\n"
          ],
          "name": "stdout"
        }
      ]
    },
    {
      "cell_type": "markdown",
      "metadata": {
        "id": "t-POjSqnv7gB"
      },
      "source": [
        "## 4.2 Dataset 2"
      ]
    },
    {
      "cell_type": "markdown",
      "metadata": {
        "id": "wKK7dFVhv-UX"
      },
      "source": [
        "### Train Spectral clustering "
      ]
    },
    {
      "cell_type": "markdown",
      "metadata": {
        "id": "xRBR4fzdaqAY"
      },
      "source": [
        "Spectral clustering is applied on pre-processed data for all combinations of affinity (nearest_neighbors and rbf) and assign_labels (kmeans and discretize) for k in range 3 to 6."
      ]
    },
    {
      "cell_type": "code",
      "metadata": {
        "id": "M_r_ZrvbUxjV",
        "colab": {
          "base_uri": "https://localhost:8080/"
        },
        "outputId": "7bf17e5e-39bc-4d12-acc4-2a709173f6e4"
      },
      "source": [
        "spectral_per_k_nn_km = [SpectralClustering(n_clusters=k, affinity='nearest_neighbors', \n",
        "                                     assign_labels='kmeans').fit(X_cv)\n",
        "                       for k in range(3, 7)]               \n",
        "spectral_per_k_nn_d = [SpectralClustering(n_clusters=k, affinity='nearest_neighbors', \n",
        "                                     assign_labels='discretize').fit(X_cv)\n",
        "                       for k in range(3, 7)]\n",
        "spectral_per_k_rbf_km = [SpectralClustering(n_clusters=k, affinity='rbf', \n",
        "                                     assign_labels='kmeans').fit(X_cv)\n",
        "                      for k in range(3, 7)]\n"
      ],
      "execution_count": null,
      "outputs": [
        {
          "output_type": "stream",
          "text": [
            "/usr/local/lib/python3.7/dist-packages/sklearn/manifold/_spectral_embedding.py:245: UserWarning: Graph is not fully connected, spectral embedding may not work as expected.\n",
            "  warnings.warn(\"Graph is not fully connected, spectral embedding\"\n",
            "/usr/local/lib/python3.7/dist-packages/sklearn/manifold/_spectral_embedding.py:245: UserWarning: Graph is not fully connected, spectral embedding may not work as expected.\n",
            "  warnings.warn(\"Graph is not fully connected, spectral embedding\"\n",
            "/usr/local/lib/python3.7/dist-packages/sklearn/manifold/_spectral_embedding.py:245: UserWarning: Graph is not fully connected, spectral embedding may not work as expected.\n",
            "  warnings.warn(\"Graph is not fully connected, spectral embedding\"\n",
            "/usr/local/lib/python3.7/dist-packages/sklearn/manifold/_spectral_embedding.py:245: UserWarning: Graph is not fully connected, spectral embedding may not work as expected.\n",
            "  warnings.warn(\"Graph is not fully connected, spectral embedding\"\n"
          ],
          "name": "stderr"
        }
      ]
    },
    {
      "cell_type": "markdown",
      "metadata": {
        "id": "OrKT0eKewCgm"
      },
      "source": [
        "### First evaluation "
      ]
    },
    {
      "cell_type": "markdown",
      "metadata": {
        "id": "lOxwiEZ4aUHi"
      },
      "source": [
        "Silhouette scores are calculated for k=3, k=4, k=5 and k=6 for all  models. <br> \n",
        "Highest score of 0.22 is observed for affinity=**nearest_neighbors** and assign_labels=**kmeans** and **k=3** <br>"
      ]
    },
    {
      "cell_type": "code",
      "metadata": {
        "id": "fxy2Rsl6wBCM",
        "colab": {
          "base_uri": "https://localhost:8080/"
        },
        "outputId": "6e76524b-8cd6-4cdf-863f-08b143f1cd88"
      },
      "source": [
        "print('Silhouette scores for k=3, k=4, k=5, k=6:\\n')\n",
        "silhouette_scores_nn_km = [silhouette_score(X_cv, model.labels_)\n",
        "                     for model in spectral_per_k_nn_km]\n",
        "print('affinity=nearest_neighbors and assign_labels=kmeans:\\n', silhouette_scores_nn_km)\n",
        "\n",
        "silhouette_scores_nn_d = [silhouette_score(X_cv, model.labels_)\n",
        "                     for model in spectral_per_k_nn_d]\n",
        "print('affinity=nearest_neighbors and assign_labels=discretize:\\n', silhouette_scores_nn_d)\n",
        "\n",
        "silhouette_scores_rbf_km = [silhouette_score(X_cv, model.labels_)\n",
        "                     for model in spectral_per_k_rbf_km]\n",
        "print('affinity=rbf and assign_labels=kmeans:\\n', silhouette_scores_rbf_km)\n"
      ],
      "execution_count": null,
      "outputs": [
        {
          "output_type": "stream",
          "text": [
            "Silhouette scores for k=3, k=4, k=5, k=6:\n",
            "\n",
            "affinity=nearest_neighbors and assign_labels=kmeans:\n",
            " [0.22560692999325607, 0.18704034403105335, 0.06555525428606894, 0.0514866720508495]\n",
            "affinity=nearest_neighbors and assign_labels=discretize:\n",
            " [0.11356798546792779, 0.06218951480627814, 0.03131399727158445, -0.0008140284278413491]\n",
            "affinity=rbf and assign_labels=kmeans:\n",
            " [0.02958544773745351, 0.01573127482991458, 0.008249445169180861, 0.006390655812028088]\n"
          ],
          "name": "stdout"
        }
      ]
    },
    {
      "cell_type": "markdown",
      "metadata": {
        "id": "1joILa4LwFbs"
      },
      "source": [
        "### Second evaluation "
      ]
    },
    {
      "cell_type": "markdown",
      "metadata": {
        "id": "FS57szPHZzC1"
      },
      "source": [
        "Fowlkes_Mallows scores are calculated for k=3, k=4, k=5 and k=6 for all models. <br> \n",
        "Highest score of 0.49 is observed for affinity=**rbf** and assign_labels=**kmeans** and **k=3** <br>\n"
      ]
    },
    {
      "cell_type": "code",
      "metadata": {
        "id": "n_QJ74S7wH7b",
        "colab": {
          "base_uri": "https://localhost:8080/"
        },
        "outputId": "0dca1294-596a-469a-83ed-03237467489e"
      },
      "source": [
        "print('Fowlkes_Mallows scores for k=3, k=4, k=5, k=6:\\n')\n",
        "fowlkes_mallows_nn_km = [fowlkes_mallows_score(y_d2, model.labels_)\n",
        "                     for model in spectral_per_k_nn_km]\n",
        "print('affinity=nearest_neighbors and assign_labels=kmeans:\\n', fowlkes_mallows_nn_km)\n",
        "fowlkes_mallows_nn_d = [fowlkes_mallows_score(y_d2, model.labels_)\n",
        "                     for model in spectral_per_k_nn_d]\n",
        "print('affinity=nearest_neighbors and assign_labels=discretize:\\n', fowlkes_mallows_nn_d)\n",
        "\n",
        "fowlkes_mallows_rbf_km = [fowlkes_mallows_score(y_d2, model.labels_)\n",
        "                     for model in spectral_per_k_rbf_km]\n",
        "print('affinity=rbf and assign_labels=kmeans:\\n', fowlkes_mallows_rbf_km)"
      ],
      "execution_count": null,
      "outputs": [
        {
          "output_type": "stream",
          "text": [
            "Fowlkes_Mallows scores for k=3, k=4, k=5, k=6:\n",
            "\n",
            "affinity=nearest_neighbors and assign_labels=kmeans:\n",
            " [0.45595543583927706, 0.45498273491254954, 0.38237946323127364, 0.3775559231236367]\n",
            "affinity=nearest_neighbors and assign_labels=discretize:\n",
            " [0.41086906060502426, 0.403783990262403, 0.33167130400822226, 0.3258586200517281]\n",
            "affinity=rbf and assign_labels=kmeans:\n",
            " [0.4993042298120321, 0.49922074647973896, 0.49902337121675977, 0.4991239392035275]\n"
          ],
          "name": "stdout"
        }
      ]
    },
    {
      "cell_type": "code",
      "metadata": {
        "colab": {
          "base_uri": "https://localhost:8080/"
        },
        "id": "a44LGoTVOnxN",
        "outputId": "b9369305-4db5-49c4-d694-e25b755e4968"
      },
      "source": [
        "\n",
        "print(confusion_matrix(y_d2,spectral_per_k_nn_km[0].labels_))\n",
        "print(confusion_matrix(y_d2,spectral_per_k_nn_d[0].labels_))\n"
      ],
      "execution_count": null,
      "outputs": [
        {
          "output_type": "stream",
          "text": [
            "[[   0    0    0    0    0]\n",
            " [1268   98   20    0    0]\n",
            " [1250  135   15    0    0]\n",
            " [1224  139   18    0    0]\n",
            " [1254   61   19    0    0]]\n",
            "[[   0    0    0    0    0]\n",
            " [ 205 1136   45    0    0]\n",
            " [ 286 1083   31    0    0]\n",
            " [ 278 1063   40    0    0]\n",
            " [ 158 1129   47    0    0]]\n"
          ],
          "name": "stdout"
        }
      ]
    }
  ]
}