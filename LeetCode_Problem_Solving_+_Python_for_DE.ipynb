{
  "nbformat": 4,
  "nbformat_minor": 0,
  "metadata": {
    "colab": {
      "provenance": [],
      "authorship_tag": "ABX9TyNkDidpiyoc+zNQmI8Jakfl",
      "include_colab_link": true
    },
    "kernelspec": {
      "name": "python3",
      "display_name": "Python 3"
    },
    "language_info": {
      "name": "python"
    }
  },
  "cells": [
    {
      "cell_type": "markdown",
      "metadata": {
        "id": "view-in-github",
        "colab_type": "text"
      },
      "source": [
        "<a href=\"https://colab.research.google.com/github/wzha8255/My_Portfolio_Website/blob/main/LeetCode_Problem_Solving_%2B_Python_for_DE.ipynb\" target=\"_parent\"><img src=\"https://colab.research.google.com/assets/colab-badge.svg\" alt=\"Open In Colab\"/></a>"
      ]
    },
    {
      "cell_type": "code",
      "source": [
        "'''\n",
        "Filter, map, reduce functions to allow engineers to write code much less without using loop.\n",
        "All these functions return iterable objects, which is not a list. If you want to print or further process the result, you can convert explicitly to list using list() function.\n",
        "\n",
        "\n",
        "Filter:\n",
        "filter(function, iterable)\n",
        "- the function must reaturn either True or False result\n",
        "- iterable could be list, tuple, string\n",
        "\n",
        "e.g.\n",
        "\n",
        "numbers = [1,2,3,4,5,6,7]\n",
        "filtered_nubmers = list(filter(lambda x:x%2==0, numbers))\n",
        "\n",
        "\n",
        "Map:\n",
        "map(function, iterable)\n",
        "- function: the function to apply to each element of the iterable\n",
        "numbers = [1,2,3,4,5,6,7]\n",
        "mapped_numbers = map(lambda x:x*2, numbers)\n",
        "\n",
        "Reduce:\n",
        "Apply the function cumulatively to the iterable, and reducing the iterable to a single value.\n",
        "\n",
        "e.g.\n",
        "numbers = [1,2,3,4,5,6]\n",
        "reduced_number = reduce(lambda x,y: x+y, numbers)\n",
        "'''"
      ],
      "metadata": {
        "id": "ZJxqt-B_E3ev"
      },
      "execution_count": null,
      "outputs": []
    },
    {
      "cell_type": "code",
      "source": [
        "from functools import reduce\n",
        "numbers = [1,2,3,4,5,6]\n",
        "reduced_number = reduce(lambda x,y: x+y, numbers)\n",
        "print(reduced_number)"
      ],
      "metadata": {
        "colab": {
          "base_uri": "https://localhost:8080/"
        },
        "id": "iIwTedreE42l",
        "outputId": "95650d11-5e9b-43e1-95eb-64a55041056f"
      },
      "execution_count": 6,
      "outputs": [
        {
          "output_type": "stream",
          "name": "stdout",
          "text": [
            "21\n"
          ]
        }
      ]
    },
    {
      "cell_type": "code",
      "source": [
        "'''\n",
        "Generators\n",
        "Python provides a generator to create your iterator function.\n",
        "A generator is a special type of function that does not return a single value, instead,\n",
        "it returns an iterator object with a sequence of values. In a generator function, a yield keyword is used instead of a return.\n",
        "It allows you to create an iterator without loading the entire dataset into memory, making it suitable for processing huge files.\n",
        "'''\n",
        "text = \"\"\"\n",
        "transaction_id,user\\r\n",
        "1,aaa\\r\n",
        "\\r\n",
        "2,xx\\r\n",
        "3,ccc\\r\n",
        "\\r\n",
        "\"\"\"\n",
        "\n",
        "def process_large_file(text):\n",
        "        for line in text.split(\"\\r\"):\n",
        "            # Process the line\n",
        "            processed_line = line.strip().upper()\n",
        "\n",
        "            if processed_line != \"\":\n",
        "                # Yield the processed line\n",
        "                yield processed_line\n",
        "\n",
        "# Example usage\n",
        "\n",
        "for processed_line in process_large_file(text):\n",
        "    print(processed_line)\n",
        "\n",
        "# Output:\n",
        "# 1,AAA\n",
        "# 2,XX\n",
        "# 3,CCC"
      ],
      "metadata": {
        "id": "G9U1ZEPjE5BN"
      },
      "execution_count": null,
      "outputs": []
    },
    {
      "cell_type": "markdown",
      "source": [
        "##Decorator\n",
        "\n",
        "A decorator in python is a powerful tool that allows you to modify or enhance the\n",
        "behavior of a function or method without changing its code. A decorator is essentially a\n",
        "higher-order function that takes a function as an argument and returns a new function with\n",
        "added functionality.\n",
        "\n",
        "\n",
        "##Common Use Cases for Decorators\n",
        "- Logging: Adding logs to track function calls.\n",
        "- Authorization: Checking user permissions before executing a function.\n",
        "- Caching: Storing results of expensive function calls and reusing them.\n",
        "- Validation: Validating input data before passing it to the function.\n",
        "- Performance Monitoring: Timing function executions to monitor performance."
      ],
      "metadata": {
        "id": "8tjvGPpscKC6"
      }
    },
    {
      "cell_type": "code",
      "source": [
        "'''\n",
        "Example 1\n",
        "'''\n",
        "import time\n",
        "\n",
        "def retry(times, wait):\n",
        "\n",
        "    def decorator(func):\n",
        "        def newfn(*args, **kwargs):\n",
        "            attempt = 0\n",
        "            while attempt < times:\n",
        "                try:\n",
        "                    time.sleep(wait)\n",
        "                    return func(*args, **kwargs)\n",
        "                except Exception as e:\n",
        "                    print(\n",
        "                        'Exception thrown when attempting to run %s, attempt '\n",
        "                        '%d of %d' % (func, attempt, times)\n",
        "                    )\n",
        "                    attempt += 1\n",
        "            time.sleep(wait)\n",
        "            return func(*args, **kwargs)\n",
        "        return newfn\n",
        "    return decorator\n",
        "\n",
        "@retry(times=3, wait=2)\n",
        "def get_from_rest():\n",
        "    print('Try read data from rest API')\n",
        "\n",
        "    raise ConnectionError ('Lack of connection')\n",
        "\n",
        "get_from_rest()\n"
      ],
      "metadata": {
        "colab": {
          "base_uri": "https://localhost:8080/",
          "height": 443
        },
        "id": "K1VxZRLfE5HI",
        "outputId": "a50e7bd4-d7b8-497c-ce68-5dc5c07fd59b"
      },
      "execution_count": 7,
      "outputs": [
        {
          "output_type": "stream",
          "name": "stdout",
          "text": [
            "Try read data from rest API\n",
            "Exception thrown when attempting to run <function get_from_rest at 0x7fcdd6ac31c0>, attempt 0 of 3\n",
            "Try read data from rest API\n",
            "Exception thrown when attempting to run <function get_from_rest at 0x7fcdd6ac31c0>, attempt 1 of 3\n",
            "Try read data from rest API\n",
            "Exception thrown when attempting to run <function get_from_rest at 0x7fcdd6ac31c0>, attempt 2 of 3\n",
            "Try read data from rest API\n"
          ]
        },
        {
          "output_type": "error",
          "ename": "ConnectionError",
          "evalue": "Lack of connection",
          "traceback": [
            "\u001b[0;31m---------------------------------------------------------------------------\u001b[0m",
            "\u001b[0;31mConnectionError\u001b[0m                           Traceback (most recent call last)",
            "\u001b[0;32m<ipython-input-7-741da289daa9>\u001b[0m in \u001b[0;36m<cell line: 36>\u001b[0;34m()\u001b[0m\n\u001b[1;32m     34\u001b[0m     \u001b[0;32mraise\u001b[0m \u001b[0mConnectionError\u001b[0m \u001b[0;34m(\u001b[0m\u001b[0;34m'Lack of connection'\u001b[0m\u001b[0;34m)\u001b[0m\u001b[0;34m\u001b[0m\u001b[0;34m\u001b[0m\u001b[0m\n\u001b[1;32m     35\u001b[0m \u001b[0;34m\u001b[0m\u001b[0m\n\u001b[0;32m---> 36\u001b[0;31m \u001b[0mget_from_rest\u001b[0m\u001b[0;34m(\u001b[0m\u001b[0;34m)\u001b[0m\u001b[0;34m\u001b[0m\u001b[0;34m\u001b[0m\u001b[0m\n\u001b[0m",
            "\u001b[0;32m<ipython-input-7-741da289daa9>\u001b[0m in \u001b[0;36mnewfn\u001b[0;34m(*args, **kwargs)\u001b[0m\n\u001b[1;32m     24\u001b[0m                     \u001b[0mattempt\u001b[0m \u001b[0;34m+=\u001b[0m \u001b[0;36m1\u001b[0m\u001b[0;34m\u001b[0m\u001b[0;34m\u001b[0m\u001b[0m\n\u001b[1;32m     25\u001b[0m             \u001b[0mtime\u001b[0m\u001b[0;34m.\u001b[0m\u001b[0msleep\u001b[0m\u001b[0;34m(\u001b[0m\u001b[0mwait\u001b[0m\u001b[0;34m)\u001b[0m\u001b[0;34m\u001b[0m\u001b[0;34m\u001b[0m\u001b[0m\n\u001b[0;32m---> 26\u001b[0;31m             \u001b[0;32mreturn\u001b[0m \u001b[0mfunc\u001b[0m\u001b[0;34m(\u001b[0m\u001b[0;34m*\u001b[0m\u001b[0margs\u001b[0m\u001b[0;34m,\u001b[0m \u001b[0;34m**\u001b[0m\u001b[0mkwargs\u001b[0m\u001b[0;34m)\u001b[0m\u001b[0;34m\u001b[0m\u001b[0;34m\u001b[0m\u001b[0m\n\u001b[0m\u001b[1;32m     27\u001b[0m         \u001b[0;32mreturn\u001b[0m \u001b[0mnewfn\u001b[0m\u001b[0;34m\u001b[0m\u001b[0;34m\u001b[0m\u001b[0m\n\u001b[1;32m     28\u001b[0m     \u001b[0;32mreturn\u001b[0m \u001b[0mdecorator\u001b[0m\u001b[0;34m\u001b[0m\u001b[0;34m\u001b[0m\u001b[0m\n",
            "\u001b[0;32m<ipython-input-7-741da289daa9>\u001b[0m in \u001b[0;36mget_from_rest\u001b[0;34m()\u001b[0m\n\u001b[1;32m     32\u001b[0m     \u001b[0mprint\u001b[0m\u001b[0;34m(\u001b[0m\u001b[0;34m'Try read data from rest API'\u001b[0m\u001b[0;34m)\u001b[0m\u001b[0;34m\u001b[0m\u001b[0;34m\u001b[0m\u001b[0m\n\u001b[1;32m     33\u001b[0m \u001b[0;34m\u001b[0m\u001b[0m\n\u001b[0;32m---> 34\u001b[0;31m     \u001b[0;32mraise\u001b[0m \u001b[0mConnectionError\u001b[0m \u001b[0;34m(\u001b[0m\u001b[0;34m'Lack of connection'\u001b[0m\u001b[0;34m)\u001b[0m\u001b[0;34m\u001b[0m\u001b[0;34m\u001b[0m\u001b[0m\n\u001b[0m\u001b[1;32m     35\u001b[0m \u001b[0;34m\u001b[0m\u001b[0m\n\u001b[1;32m     36\u001b[0m \u001b[0mget_from_rest\u001b[0m\u001b[0;34m(\u001b[0m\u001b[0;34m)\u001b[0m\u001b[0;34m\u001b[0m\u001b[0;34m\u001b[0m\u001b[0m\n",
            "\u001b[0;31mConnectionError\u001b[0m: Lack of connection"
          ]
        }
      ]
    },
    {
      "cell_type": "code",
      "source": [
        "'''\n",
        "Example 2:\n",
        "One simple example about decorator\n",
        "'''\n",
        "\n",
        "def simple_decorator(func):\n",
        "  def wrapper():\n",
        "    print(f\"Calling function {func.__name__}\")\n",
        "    func()\n",
        "    print(f\"Function {func.__name__} execution completed.\")\n",
        "  return wrapper\n",
        "\n",
        "\n",
        "@simple_decorator\n",
        "def print_hello():\n",
        "  print('Hello!')\n",
        "\n",
        "\n",
        "print_hello()"
      ],
      "metadata": {
        "colab": {
          "base_uri": "https://localhost:8080/"
        },
        "id": "QGlbp2LUZwzj",
        "outputId": "381e0003-9d8d-4e1f-d5bb-c6256a207a9f"
      },
      "execution_count": 9,
      "outputs": [
        {
          "output_type": "stream",
          "name": "stdout",
          "text": [
            "Calling function print_hello\n",
            "Hello!\n",
            "Function print_hello execution completed.\n"
          ]
        }
      ]
    },
    {
      "cell_type": "code",
      "source": [
        "'''\n",
        "Example 3:\n",
        "One exmaple of decorator with arguments\n",
        "'''\n",
        "\n",
        "def repeat(n):\n",
        "  def decorator(func):\n",
        "    def wrapper(*args,**kargs):\n",
        "      for _ in range(n):\n",
        "        func(*args,**kargs)\n",
        "    return wrapper\n",
        "  return decorator\n",
        "\n",
        "@repeat(3)\n",
        "def greet(name):\n",
        "  print(f\"Hello, {name}!\")\n",
        "\n",
        "greet(\"Alice\")"
      ],
      "metadata": {
        "colab": {
          "base_uri": "https://localhost:8080/"
        },
        "id": "MANTyi0EZw41",
        "outputId": "4a3f9bd6-2757-46e2-d2fe-ce1ab678db9a"
      },
      "execution_count": 10,
      "outputs": [
        {
          "output_type": "stream",
          "name": "stdout",
          "text": [
            "Hello, Alice!\n",
            "Hello, Alice!\n",
            "Hello, Alice!\n"
          ]
        }
      ]
    },
    {
      "cell_type": "code",
      "source": [
        "'''\n",
        "Example 4: Timing a function with a decorator\n",
        "'''\n",
        "\n",
        "import time\n",
        "\n",
        "def timing_decorator(func):\n",
        "  def wrapper(*args,**kwargs):\n",
        "    start_time = time.time()\n",
        "    result = func(*args,**kwargs)\n",
        "    end_time = time.time()\n",
        "    print(f\"Function {func.__name__} took {end_time - start_time} to complete execution.\")\n",
        "    return result\n",
        "  return wrapper\n",
        "\n",
        "@timing_decorator\n",
        "def sleep_function():\n",
        "  time.sleep(5)\n",
        "  print(\"Finished sleeping.\")\n",
        "\n",
        "\n",
        "sleep_function()\n",
        "\n",
        "\n",
        "\n"
      ],
      "metadata": {
        "colab": {
          "base_uri": "https://localhost:8080/"
        },
        "id": "YzdhIZxWZw-b",
        "outputId": "06b2e5b0-07ea-47c5-c334-2dfabf8b3ef4"
      },
      "execution_count": 11,
      "outputs": [
        {
          "output_type": "stream",
          "name": "stdout",
          "text": [
            "Finished sleeping.\n",
            "Function sleep_function took 5.002920866012573 to complete execution.\n"
          ]
        }
      ]
    },
    {
      "cell_type": "markdown",
      "source": [
        "## DataClass\n",
        "\n",
        "A dataclass in Python is a decorator that automatically generates special methods like __init__(), __repr__(), __eq__(), and others for user-defined classes. Introduced in Python 3.7 as part of PEP 557, the dataclass decorator simplifies the creation of classes that are primarily used to store data."
      ],
      "metadata": {
        "id": "E6VRGKCMHX1b"
      }
    },
    {
      "cell_type": "code",
      "source": [
        "import calendar\n",
        "\n",
        "def generate_dates(year,month):\n",
        "  ## calendar.monthrange() function returns two values:\n",
        "  ## 1. the first day of the month which day of the week 2. the date of the last day of that month\n",
        "  _, last_day = calendar.monthrange(year,month)\n",
        "\n",
        "  dates = [f\"{year}-{month}-{day}\" for day in range(1, last_day+1)]\n",
        "  return dates\n",
        "\n",
        "print(generate_dates(2023,2))"
      ],
      "metadata": {
        "colab": {
          "base_uri": "https://localhost:8080/"
        },
        "id": "ZqTBWsUeZxD-",
        "outputId": "40f71db1-a5e3-4790-eb29-0376c87edd06"
      },
      "execution_count": 3,
      "outputs": [
        {
          "output_type": "stream",
          "name": "stdout",
          "text": [
            "['2023-2-1', '2023-2-2', '2023-2-3', '2023-2-4', '2023-2-5', '2023-2-6', '2023-2-7', '2023-2-8', '2023-2-9', '2023-2-10', '2023-2-11', '2023-2-12', '2023-2-13', '2023-2-14', '2023-2-15', '2023-2-16', '2023-2-17', '2023-2-18', '2023-2-19', '2023-2-20', '2023-2-21', '2023-2-22', '2023-2-23', '2023-2-24', '2023-2-25', '2023-2-26', '2023-2-27', '2023-2-28']\n"
          ]
        }
      ]
    },
    {
      "cell_type": "code",
      "source": [
        "print(calendar.monthrange(2021,7))"
      ],
      "metadata": {
        "colab": {
          "base_uri": "https://localhost:8080/"
        },
        "id": "pcfGm3PnZxID",
        "outputId": "5bb6c939-4b75-47e1-a37e-c06cc1b65a07"
      },
      "execution_count": 5,
      "outputs": [
        {
          "output_type": "stream",
          "name": "stdout",
          "text": [
            "(3, 31)\n"
          ]
        }
      ]
    },
    {
      "cell_type": "markdown",
      "source": [
        "# Concurrency vs Sequential Execution\n",
        "Sequential execution vs parallel execution\n",
        "\n",
        "One concurrency mechanism is threading.\n",
        "\n",
        "##Multithreading Pools\n",
        "\n",
        "Multithreading pools are a way to manage a pool of worker threads that can perform multiple tasks concurrently. The idea is to have a pool of threads that you can reuse to execute multiple tasks without creating a new thread for each task. This approach is particularly useful when you have a large number of small tasks that can be performed in parallel, as it reduces the overhead of thread creation and destruction.\n",
        "\n",
        "The concurrent.futures.ThreadPoolExecutor is a class in Python that provides a high-level interface for asynchronously executing callables using a pool of threads. It's a part of the concurrent.futures module, which simplifies the process of managing threads."
      ],
      "metadata": {
        "id": "g2I-xeyY6-5S"
      }
    },
    {
      "cell_type": "markdown",
      "source": [
        "# two ways of using concurrent.futures.ThreadPoolExecutor\n",
        "\n",
        "1. using concurrent.futures.ThreadPoolExecutor.submit(function, i):\n",
        "  - function: the task to be run concurrently\n",
        "  - i: how many tasks to be submitted for running. the total number of tasks submitted to run.\n",
        "  - this is often used in functions that does not have input arguments. Using i to simulate multiple times running of the same task.\n",
        "2. using concurrent.futures.ThreadPoolExecutor.map(fuction, *iterables)\n",
        "  -  function: the function to apply to the items\n",
        "  - *iterables: the iterable that supply arguments to the function.\n",
        "  - if there are 30 elements in the iterable, that means there will be 30 functions to be run. as there is max_works =3, then the first 3 functions with the first 3 input argument will be run immediately and then the next functions will be run as soon as there is any thread available. There are 3 threads that can be run concurrently.\n",
        "\n",
        "\n",
        "Simple Example:\n",
        "\n",
        "with ThreadPoolExecutor(max_workers=3) as executor:\n",
        "  futures = [executor.submit(task,i) for i in range(5)]\n",
        "\n",
        "- up to 3 threads can be run concurrently\n",
        "- 5 tasks have been submitted for running\n",
        "- task 1,2,3 will be started immediately, and then the remaining 2 tasks will wait until a thread becomes available.\n",
        "\n"
      ],
      "metadata": {
        "id": "3DgCZJ_mA0bj"
      }
    },
    {
      "cell_type": "code",
      "source": [
        "## run a single task without using concurrent.futures.ThreadPoolExecutor\n",
        "import requests\n",
        "\n",
        "url = \"http://api.nbp.pl/api/exchangerates/rates/a/gbp/2023-10-03/\"\n",
        "\n",
        "response = requests.get(url)\n",
        "print(response.json())"
      ],
      "metadata": {
        "colab": {
          "base_uri": "https://localhost:8080/"
        },
        "id": "uaeS9eM_ZxMS",
        "outputId": "dab266ec-555f-402a-b3a5-518682f799cc"
      },
      "execution_count": 15,
      "outputs": [
        {
          "output_type": "stream",
          "name": "stdout",
          "text": [
            "{'table': 'A', 'currency': 'funt szterling', 'code': 'GBP', 'rates': [{'no': '191/A/NBP/2023', 'effectiveDate': '2023-10-03', 'mid': 5.3195}]}\n"
          ]
        }
      ]
    },
    {
      "cell_type": "code",
      "source": [
        "\n",
        "\n",
        "import requests\n",
        "import calendar\n",
        "import time\n",
        "\n",
        "## to get a list of all dates in specified year and month.\n",
        "def generate_dates(year,month):\n",
        "  _, last_day = calendar.monthrange(year,month)\n",
        "\n",
        "  dates = [f\"{year}-{month}-{day}\" for day in range(1,last_day)]\n",
        "  return dates\n",
        "\n",
        "urls = []\n",
        "# generate url list of API endpoints for specified year and month\n",
        "for date in generate_dates(2023,10):\n",
        "  urls.append(f\"http://api.nbp.pl/api/exchangerates/rates/a/gbp/{date}/\")\n",
        "\n",
        "for url in urls:\n",
        "  print(url)"
      ],
      "metadata": {
        "colab": {
          "base_uri": "https://localhost:8080/"
        },
        "id": "RE55iGV_Eew9",
        "outputId": "b9a7d126-17ac-4802-9381-fd21ca4b7788"
      },
      "execution_count": 22,
      "outputs": [
        {
          "output_type": "stream",
          "name": "stdout",
          "text": [
            "http://api.nbp.pl/api/exchangerates/rates/a/gbp/2023-10-1/\n",
            "http://api.nbp.pl/api/exchangerates/rates/a/gbp/2023-10-2/\n",
            "http://api.nbp.pl/api/exchangerates/rates/a/gbp/2023-10-3/\n",
            "http://api.nbp.pl/api/exchangerates/rates/a/gbp/2023-10-4/\n",
            "http://api.nbp.pl/api/exchangerates/rates/a/gbp/2023-10-5/\n",
            "http://api.nbp.pl/api/exchangerates/rates/a/gbp/2023-10-6/\n",
            "http://api.nbp.pl/api/exchangerates/rates/a/gbp/2023-10-7/\n",
            "http://api.nbp.pl/api/exchangerates/rates/a/gbp/2023-10-8/\n",
            "http://api.nbp.pl/api/exchangerates/rates/a/gbp/2023-10-9/\n",
            "http://api.nbp.pl/api/exchangerates/rates/a/gbp/2023-10-10/\n",
            "http://api.nbp.pl/api/exchangerates/rates/a/gbp/2023-10-11/\n",
            "http://api.nbp.pl/api/exchangerates/rates/a/gbp/2023-10-12/\n",
            "http://api.nbp.pl/api/exchangerates/rates/a/gbp/2023-10-13/\n",
            "http://api.nbp.pl/api/exchangerates/rates/a/gbp/2023-10-14/\n",
            "http://api.nbp.pl/api/exchangerates/rates/a/gbp/2023-10-15/\n",
            "http://api.nbp.pl/api/exchangerates/rates/a/gbp/2023-10-16/\n",
            "http://api.nbp.pl/api/exchangerates/rates/a/gbp/2023-10-17/\n",
            "http://api.nbp.pl/api/exchangerates/rates/a/gbp/2023-10-18/\n",
            "http://api.nbp.pl/api/exchangerates/rates/a/gbp/2023-10-19/\n",
            "http://api.nbp.pl/api/exchangerates/rates/a/gbp/2023-10-20/\n",
            "http://api.nbp.pl/api/exchangerates/rates/a/gbp/2023-10-21/\n",
            "http://api.nbp.pl/api/exchangerates/rates/a/gbp/2023-10-22/\n",
            "http://api.nbp.pl/api/exchangerates/rates/a/gbp/2023-10-23/\n",
            "http://api.nbp.pl/api/exchangerates/rates/a/gbp/2023-10-24/\n",
            "http://api.nbp.pl/api/exchangerates/rates/a/gbp/2023-10-25/\n",
            "http://api.nbp.pl/api/exchangerates/rates/a/gbp/2023-10-26/\n",
            "http://api.nbp.pl/api/exchangerates/rates/a/gbp/2023-10-27/\n",
            "http://api.nbp.pl/api/exchangerates/rates/a/gbp/2023-10-28/\n",
            "http://api.nbp.pl/api/exchangerates/rates/a/gbp/2023-10-29/\n",
            "http://api.nbp.pl/api/exchangerates/rates/a/gbp/2023-10-30/\n"
          ]
        }
      ]
    },
    {
      "cell_type": "code",
      "source": [
        "## runing 30 tasks without using concurrent.futures.ThreadPoolExecutor, check the total time executed.\n",
        "\n",
        "start_time = time.time()\n",
        "\n",
        "for url in urls:\n",
        "  response = requests.get(url)\n",
        "  if response.status_code == 200:\n",
        "    print(response.json())\n",
        "  else:\n",
        "    print(f\"Request failed with status code: {response.status_code}\")\n",
        "\n",
        "end_time = time.time()\n",
        "sequential_execution_time = end_time - start_time\n",
        "print('-'*100)\n",
        "print(f'For the {len(urls)} tasks, total execution time is: {execution_time}.')"
      ],
      "metadata": {
        "colab": {
          "base_uri": "https://localhost:8080/"
        },
        "id": "nPYHIcKgHClD",
        "outputId": "cb61802e-2d39-498c-ad6e-86438a7a1e75"
      },
      "execution_count": 34,
      "outputs": [
        {
          "output_type": "stream",
          "name": "stdout",
          "text": [
            "Request failed with status code: 404\n",
            "Request failed with status code: 404\n",
            "Request failed with status code: 404\n",
            "Request failed with status code: 404\n",
            "Request failed with status code: 404\n",
            "Request failed with status code: 404\n",
            "Request failed with status code: 404\n",
            "Request failed with status code: 404\n",
            "Request failed with status code: 404\n",
            "{'table': 'A', 'currency': 'funt szterling', 'code': 'GBP', 'rates': [{'no': '196/A/NBP/2023', 'effectiveDate': '2023-10-10', 'mid': 5.2747}]}\n",
            "{'table': 'A', 'currency': 'funt szterling', 'code': 'GBP', 'rates': [{'no': '197/A/NBP/2023', 'effectiveDate': '2023-10-11', 'mid': 5.2304}]}\n",
            "{'table': 'A', 'currency': 'funt szterling', 'code': 'GBP', 'rates': [{'no': '198/A/NBP/2023', 'effectiveDate': '2023-10-12', 'mid': 5.2452}]}\n",
            "{'table': 'A', 'currency': 'funt szterling', 'code': 'GBP', 'rates': [{'no': '199/A/NBP/2023', 'effectiveDate': '2023-10-13', 'mid': 5.2563}]}\n",
            "Request failed with status code: 404\n",
            "Request failed with status code: 404\n",
            "{'table': 'A', 'currency': 'funt szterling', 'code': 'GBP', 'rates': [{'no': '200/A/NBP/2023', 'effectiveDate': '2023-10-16', 'mid': 5.1683}]}\n",
            "{'table': 'A', 'currency': 'funt szterling', 'code': 'GBP', 'rates': [{'no': '201/A/NBP/2023', 'effectiveDate': '2023-10-17', 'mid': 5.1222}]}\n",
            "{'table': 'A', 'currency': 'funt szterling', 'code': 'GBP', 'rates': [{'no': '202/A/NBP/2023', 'effectiveDate': '2023-10-18', 'mid': 5.1283}]}\n",
            "{'table': 'A', 'currency': 'funt szterling', 'code': 'GBP', 'rates': [{'no': '203/A/NBP/2023', 'effectiveDate': '2023-10-19', 'mid': 5.1171}]}\n",
            "{'table': 'A', 'currency': 'funt szterling', 'code': 'GBP', 'rates': [{'no': '204/A/NBP/2023', 'effectiveDate': '2023-10-20', 'mid': 5.1159}]}\n",
            "Request failed with status code: 404\n",
            "Request failed with status code: 404\n",
            "{'table': 'A', 'currency': 'funt szterling', 'code': 'GBP', 'rates': [{'no': '205/A/NBP/2023', 'effectiveDate': '2023-10-23', 'mid': 5.1103}]}\n",
            "{'table': 'A', 'currency': 'funt szterling', 'code': 'GBP', 'rates': [{'no': '206/A/NBP/2023', 'effectiveDate': '2023-10-24', 'mid': 5.1366}]}\n",
            "{'table': 'A', 'currency': 'funt szterling', 'code': 'GBP', 'rates': [{'no': '207/A/NBP/2023', 'effectiveDate': '2023-10-25', 'mid': 5.1328}]}\n",
            "{'table': 'A', 'currency': 'funt szterling', 'code': 'GBP', 'rates': [{'no': '208/A/NBP/2023', 'effectiveDate': '2023-10-26', 'mid': 5.1209}]}\n",
            "{'table': 'A', 'currency': 'funt szterling', 'code': 'GBP', 'rates': [{'no': '209/A/NBP/2023', 'effectiveDate': '2023-10-27', 'mid': 5.1266}]}\n",
            "Request failed with status code: 404\n",
            "Request failed with status code: 404\n",
            "{'table': 'A', 'currency': 'funt szterling', 'code': 'GBP', 'rates': [{'no': '210/A/NBP/2023', 'effectiveDate': '2023-10-30', 'mid': 5.0987}]}\n",
            "----------------------------------------------------------------------------------------------------\n",
            "For the 30 tasks, total execution time is: 7.593231916427612.\n"
          ]
        }
      ]
    },
    {
      "cell_type": "code",
      "source": [
        "## running 30 tasks using concurrent.futures.ThreadPoolExecutor\n",
        "\n",
        "from concurrent.futures import ThreadPoolExecutor\n",
        "\n",
        "def task(url):\n",
        "  response = requests.get(url)\n",
        "  if response.status_code == 200:\n",
        "    return response.json()\n",
        "  else:\n",
        "    return (f\"Request failed with status code: {response.status_code}\")\n",
        "\n",
        "with ThreadPoolExecutor(max_workers=5) as executor:\n",
        "  ##futures = [executor.submit(requests.get,url) for url in urls]\n",
        "   results = executor.map(task,urls)\n",
        "\n",
        "for result in results:\n",
        "  print(result)\n",
        "\n",
        "end_time = time.time()\n",
        "multithread_execution_time = end_time - start_time\n",
        "print('-'*100)\n",
        "print(f'For the {len(urls)} tasks, total execution time is: {execution_time}.')\n"
      ],
      "metadata": {
        "colab": {
          "base_uri": "https://localhost:8080/"
        },
        "id": "emkwukZ-HW4V",
        "outputId": "64b70d76-027e-4ab8-8560-7ba4b39e4a4c"
      },
      "execution_count": 35,
      "outputs": [
        {
          "output_type": "stream",
          "name": "stdout",
          "text": [
            "Request failed with status code: 404\n",
            "Request failed with status code: 404\n",
            "Request failed with status code: 404\n",
            "Request failed with status code: 404\n",
            "Request failed with status code: 404\n",
            "Request failed with status code: 404\n",
            "Request failed with status code: 404\n",
            "Request failed with status code: 404\n",
            "Request failed with status code: 404\n",
            "{'table': 'A', 'currency': 'funt szterling', 'code': 'GBP', 'rates': [{'no': '196/A/NBP/2023', 'effectiveDate': '2023-10-10', 'mid': 5.2747}]}\n",
            "{'table': 'A', 'currency': 'funt szterling', 'code': 'GBP', 'rates': [{'no': '197/A/NBP/2023', 'effectiveDate': '2023-10-11', 'mid': 5.2304}]}\n",
            "{'table': 'A', 'currency': 'funt szterling', 'code': 'GBP', 'rates': [{'no': '198/A/NBP/2023', 'effectiveDate': '2023-10-12', 'mid': 5.2452}]}\n",
            "{'table': 'A', 'currency': 'funt szterling', 'code': 'GBP', 'rates': [{'no': '199/A/NBP/2023', 'effectiveDate': '2023-10-13', 'mid': 5.2563}]}\n",
            "Request failed with status code: 404\n",
            "Request failed with status code: 404\n",
            "{'table': 'A', 'currency': 'funt szterling', 'code': 'GBP', 'rates': [{'no': '200/A/NBP/2023', 'effectiveDate': '2023-10-16', 'mid': 5.1683}]}\n",
            "{'table': 'A', 'currency': 'funt szterling', 'code': 'GBP', 'rates': [{'no': '201/A/NBP/2023', 'effectiveDate': '2023-10-17', 'mid': 5.1222}]}\n",
            "{'table': 'A', 'currency': 'funt szterling', 'code': 'GBP', 'rates': [{'no': '202/A/NBP/2023', 'effectiveDate': '2023-10-18', 'mid': 5.1283}]}\n",
            "{'table': 'A', 'currency': 'funt szterling', 'code': 'GBP', 'rates': [{'no': '203/A/NBP/2023', 'effectiveDate': '2023-10-19', 'mid': 5.1171}]}\n",
            "{'table': 'A', 'currency': 'funt szterling', 'code': 'GBP', 'rates': [{'no': '204/A/NBP/2023', 'effectiveDate': '2023-10-20', 'mid': 5.1159}]}\n",
            "Request failed with status code: 404\n",
            "Request failed with status code: 404\n",
            "{'table': 'A', 'currency': 'funt szterling', 'code': 'GBP', 'rates': [{'no': '205/A/NBP/2023', 'effectiveDate': '2023-10-23', 'mid': 5.1103}]}\n",
            "{'table': 'A', 'currency': 'funt szterling', 'code': 'GBP', 'rates': [{'no': '206/A/NBP/2023', 'effectiveDate': '2023-10-24', 'mid': 5.1366}]}\n",
            "{'table': 'A', 'currency': 'funt szterling', 'code': 'GBP', 'rates': [{'no': '207/A/NBP/2023', 'effectiveDate': '2023-10-25', 'mid': 5.1328}]}\n",
            "{'table': 'A', 'currency': 'funt szterling', 'code': 'GBP', 'rates': [{'no': '208/A/NBP/2023', 'effectiveDate': '2023-10-26', 'mid': 5.1209}]}\n",
            "{'table': 'A', 'currency': 'funt szterling', 'code': 'GBP', 'rates': [{'no': '209/A/NBP/2023', 'effectiveDate': '2023-10-27', 'mid': 5.1266}]}\n",
            "Request failed with status code: 404\n",
            "Request failed with status code: 404\n",
            "{'table': 'A', 'currency': 'funt szterling', 'code': 'GBP', 'rates': [{'no': '210/A/NBP/2023', 'effectiveDate': '2023-10-30', 'mid': 5.0987}]}\n",
            "----------------------------------------------------------------------------------------------------\n",
            "For the 30 tasks, total execution time is: 7.593231916427612.\n"
          ]
        }
      ]
    },
    {
      "cell_type": "code",
      "source": [
        "print(f'Sequential execution time of {len(urls)} tasks: {sequential_execution_time}.')\n",
        "print(f\"Multithread execution time of {len(urls)} tasks: {multithread_execution_time}.\")"
      ],
      "metadata": {
        "colab": {
          "base_uri": "https://localhost:8080/"
        },
        "id": "r4SpZiQbZxYm",
        "outputId": "ea93109e-1567-46c8-8b02-dae4a26440a7"
      },
      "execution_count": 37,
      "outputs": [
        {
          "output_type": "stream",
          "name": "stdout",
          "text": [
            "Sequential execution time of 30 tasks: 7.5276007652282715.\n",
            "Multithread execution time of 30 tasks: 1.5374720096588135.\n"
          ]
        }
      ]
    },
    {
      "cell_type": "markdown",
      "source": [
        "## Multipleprocessing Pools\n",
        "\n"
      ],
      "metadata": {
        "id": "lnHRIkoaiOa9"
      }
    },
    {
      "cell_type": "code",
      "source": [
        "from multiprocessing import Pool\n",
        "import time\n",
        "\n",
        "def task(n):\n",
        "  print(f\"task {n} starting.\")\n",
        "  time.sleep(2)\n",
        "  print(f\"task {n} complted.\")\n",
        "  return f\"Result of task {n}.\"\n",
        "\n",
        "start_time = time.time()\n",
        "with Pool(processes = 3) as pool:\n",
        "  results = pool.map(task,range(10))\n",
        "\n",
        "for result in results:\n",
        "  print(result)\n",
        "\n",
        "end_time = time.time()\n",
        "\n",
        "execution_time = end_time - start_time\n",
        "print('-'*100)\n",
        "print(execution_time)"
      ],
      "metadata": {
        "colab": {
          "base_uri": "https://localhost:8080/"
        },
        "id": "dlsZhbBWZxcm",
        "outputId": "490997dd-2b48-491e-9053-fb1563e33d2f"
      },
      "execution_count": 41,
      "outputs": [
        {
          "output_type": "stream",
          "name": "stdout",
          "text": [
            "task 0 starting.task 1 starting.\n",
            "\n",
            "task 2 starting.\n",
            "task 1 complted.task 0 complted.task 2 complted.\n",
            "\n",
            "task 3 starting.\n",
            "task 4 starting.\n",
            "task 5 starting.\n",
            "\n",
            "task 3 complted.\n",
            "task 6 starting.task 4 complted.\n",
            "task 5 complted.\n",
            "task 7 starting.\n",
            "\n",
            "task 8 starting.\n",
            "task 6 complted.\n",
            "task 9 starting.\n",
            "task 7 complted.\n",
            "task 8 complted.\n",
            "task 9 complted.\n",
            "Result of task 0.\n",
            "Result of task 1.\n",
            "Result of task 2.\n",
            "Result of task 3.\n",
            "Result of task 4.\n",
            "Result of task 5.\n",
            "Result of task 6.\n",
            "Result of task 7.\n",
            "Result of task 8.\n",
            "Result of task 9.\n",
            "----------------------------------------------------------------------------------------------------\n",
            "8.16811728477478\n"
          ]
        }
      ]
    },
    {
      "cell_type": "markdown",
      "source": [
        "## Integration with Cloud Storage, including GCP, AWS and Azure\n",
        "\n",
        "Each cloud provider offers its own SDK to work with cloud services provided by them, including cloud storage but not limited to cloud storage.\n",
        "\n",
        "However, python libraries like gcsfs, adlfs, s3fs offer a streamlined way to integrate with the cloud storage service in a straightforward and unified way. These libraries prove to be very helpful when working with multiple cloud providers. The uniformity not only simply the code implementation but also contribute to making your code cloud-agnostic."
      ],
      "metadata": {
        "id": "K1G4LTTvwlSf"
      }
    },
    {
      "cell_type": "code",
      "source": [
        "### GCS\n",
        "import gcsfs\n",
        "fs = gcsfs.GCSFileSystem()\n",
        "\n",
        "dest = \"gs://dxxx/clients/clients.csv\"\n",
        "\n",
        "with fs.open(dest,\"wb\") as file:\n",
        "  file.write(\"hello;csv;file\")\n",
        "\n",
        "## Azure\n",
        "import adlfs\n",
        "\n",
        "\n",
        "fs = adlfs.AzureBlobFileSystem(account_name=os.environ[\"AZURE_STORAGE_ACCOUNT_NAME\"])\n",
        "local_filename = \"landing/clients.csv\"\n",
        "\n",
        "with fs.open(local_filename, \"wb\") as f:\n",
        "  f.write(\"hello;csv;file\")\n",
        "\n",
        "## AWS\n",
        "import s3fs\n",
        "\n",
        "fs = s3fs.S3FileSystem(key=mykey, secret=mysecretkey)\n",
        "bucket = \"my-bucket\"\n",
        "\n",
        "\n",
        "files = fs.ls(bucket)\n",
        "\n",
        "with s3.open('my-bucket/my-file.txt', 'rb') as f:\n",
        "  print(f.read())\n"
      ],
      "metadata": {
        "id": "Rs8prDp3iEnG"
      },
      "execution_count": null,
      "outputs": []
    },
    {
      "cell_type": "code",
      "source": [],
      "metadata": {
        "id": "K50kYGsfiEwe"
      },
      "execution_count": null,
      "outputs": []
    },
    {
      "cell_type": "code",
      "source": [],
      "metadata": {
        "id": "L0ZZ2QIEiE6I"
      },
      "execution_count": null,
      "outputs": []
    },
    {
      "cell_type": "code",
      "source": [],
      "metadata": {
        "id": "pDUKJU5aiFDu"
      },
      "execution_count": null,
      "outputs": []
    },
    {
      "cell_type": "code",
      "source": [],
      "metadata": {
        "id": "JuSV90UZiFNO"
      },
      "execution_count": null,
      "outputs": []
    },
    {
      "cell_type": "code",
      "source": [],
      "metadata": {
        "id": "LcJuEYK_iFaI"
      },
      "execution_count": null,
      "outputs": []
    },
    {
      "cell_type": "code",
      "source": [],
      "metadata": {
        "id": "qM3usWj0iFk3"
      },
      "execution_count": null,
      "outputs": []
    },
    {
      "cell_type": "code",
      "source": [],
      "metadata": {
        "id": "keb8dytQiFv3"
      },
      "execution_count": null,
      "outputs": []
    },
    {
      "cell_type": "code",
      "source": [
        "import pandas as pd\n",
        "df = pd.read_excel('fake_xls_dataset.xlsx',sheet_name=None)\n",
        "for i in df.keys():\n",
        "  print(i)"
      ],
      "metadata": {
        "colab": {
          "base_uri": "https://localhost:8080/"
        },
        "id": "ZPAPqTyDiF7Q",
        "outputId": "52ba7ba5-ed5b-4dfe-88de-f5967003242b"
      },
      "execution_count": 44,
      "outputs": [
        {
          "output_type": "stream",
          "name": "stdout",
          "text": [
            "sheet_a\n",
            "sheet_b\n",
            "Sheet3\n"
          ]
        }
      ]
    },
    {
      "cell_type": "code",
      "source": [
        "sheet_names = list(df.keys())\n",
        "print(type(sheet_names))\n",
        "print(sheet_names[0])"
      ],
      "metadata": {
        "colab": {
          "base_uri": "https://localhost:8080/"
        },
        "id": "Qgze3kSliGHA",
        "outputId": "769eb75c-6f98-4976-c906-9059ca810b31"
      },
      "execution_count": 51,
      "outputs": [
        {
          "output_type": "stream",
          "name": "stdout",
          "text": [
            "<class 'list'>\n",
            "sheet_a\n"
          ]
        }
      ]
    },
    {
      "cell_type": "code",
      "source": [],
      "metadata": {
        "id": "JESooJaNZxjl"
      },
      "execution_count": null,
      "outputs": []
    },
    {
      "cell_type": "code",
      "source": [],
      "metadata": {
        "id": "Yzc0IwhPZxrB"
      },
      "execution_count": null,
      "outputs": []
    },
    {
      "cell_type": "code",
      "source": [],
      "metadata": {
        "id": "0jieWCC-E5Nc"
      },
      "execution_count": null,
      "outputs": []
    },
    {
      "cell_type": "code",
      "execution_count": null,
      "metadata": {
        "id": "RXWFG-TIJP0H"
      },
      "outputs": [],
      "source": [
        "'''\n",
        "Linked nodes list problem:\n",
        "\n",
        "Merge two sorted linked lists and return it as a sorted linked list.\n",
        "\n",
        "'''\n",
        "\n",
        "from typing import Optional\n",
        "\n",
        "##Definition for singly-linked list.\n",
        "class ListNode:\n",
        "    def __init__(self, val=0, next=None):\n",
        "        self.val = val\n",
        "        self.next = next\n",
        "\n",
        "\n",
        "class Solution:\n",
        "    def mergeTwoLists(self, list1: Optional[ListNode], list2: Optional[ListNode]) -> Optional[ListNode]:\n",
        "\n",
        "        ## create a prehead node that will help us easily return the head of the merged list\n",
        "        prehead = ListNode(-1)\n",
        "\n",
        "        ## Maintain a current pointer to build the new list\n",
        "        current = prehead\n",
        "\n",
        "        ## while both linked lists have nodes left to compare\n",
        "        while list1 and list2:\n",
        "          if list1.val <= list2.val:\n",
        "            current.next = list1\n",
        "            list1 = list1.next\n",
        "          else:\n",
        "            current.next = list2\n",
        "            list2 = list2.next\n",
        "          current = current.next\n",
        "\n",
        "        ## At this point, at least one of the lists is exhausted.\n",
        "        ## Connect the remaining part of the non-exhauseted list to the merged list\n",
        "        if list1:\n",
        "          current.next = list1\n",
        "        else:\n",
        "          current.next = list2\n",
        "\n",
        "        ## the prehead node's next points to the head of the merged list\n",
        "        return prehead.next"
      ]
    },
    {
      "cell_type": "code",
      "source": [
        "## Helper function to create linked list from Python list\n",
        "def create_linked_list(arr):\n",
        "  ## if arr is null, then return None\n",
        "  if not arr:\n",
        "    return None\n",
        "\n",
        "  head = ListNode(arr[0])\n",
        "  current = head\n",
        "\n",
        "  for value in arr[1:]:\n",
        "    current.next = ListNode(value)\n",
        "    current = current.next\n",
        "\n",
        "  return head\n",
        "\n",
        "\n",
        "\n",
        "## Helper function to print linked list\n",
        "def print_linked_list(head):\n",
        "  current = head\n",
        "  while current:\n",
        "    print(current.val, end=\" ->\")\n",
        "    current = current.next\n",
        "  print(\"None\")\n"
      ],
      "metadata": {
        "id": "WKp9M71hKoiN"
      },
      "execution_count": null,
      "outputs": []
    },
    {
      "cell_type": "code",
      "source": [
        "\n",
        "## Test cases\n",
        "list1 = create_linked_list([1,2,4])\n",
        "list2 = create_linked_list([1,3,5])\n",
        "solution = Solution()\n",
        "merged_list = solution.mergeTwoLists(list1, list2)\n",
        "print_linked_list(merged_list)\n"
      ],
      "metadata": {
        "id": "pRwLlYHqOyrC"
      },
      "execution_count": null,
      "outputs": []
    },
    {
      "cell_type": "code",
      "source": [
        "'''\n",
        "Matching Paranthesis\n",
        "\n",
        "To check a srting which is assumed to contain parenthesis, contains the matching paranthesis.\n",
        "\n",
        "An extended problem is to check a random string, not only including paranthesis, but also other characters, contains matching paranthesis only.\n",
        "\n",
        "'''\n",
        "\n",
        "class Solution():\n",
        "  def isValid(self,s:str) -> bool:\n",
        "    ## directory to hold the valid and mapping of closing paranthesis to the opening brackets.\n",
        "    bracket_map = {\n",
        "                  \")\":\"(\",\n",
        "                  \"]\":\"[\",\n",
        "                  \"}\":\"{\"\n",
        "    }\n",
        "\n",
        "    ## stack holding all opening brackets, ready to be validated against.\n",
        "    stack = []\n",
        "\n",
        "    for char in s:\n",
        "      ## if the character is a closing bracket\n",
        "      if char in bracket_map:\n",
        "        if stack:\n",
        "          top_element = stack.pop()\n",
        "        else:\n",
        "          top_element = '#'\n",
        "        ## check if the closing bracket is matching with the top element popped from the stack\n",
        "        if bracket_map[char] != top_element:\n",
        "          return False\n",
        "\n",
        "      ## push the opening brackets to the stack\n",
        "      else:\n",
        "        stack.append(char)\n",
        "\n",
        "    ## return True if stack is empty, otherwise return False\n",
        "    return not stack"
      ],
      "metadata": {
        "id": "XkkAq7p6Suh-"
      },
      "execution_count": null,
      "outputs": []
    },
    {
      "cell_type": "code",
      "source": [
        "## test cases\n",
        "solution = Solution()\n",
        "print(\"()  \",solution.isValid(\"()\"))\n",
        "print(\"{{[()()]}}  \", solution.isValid(\"{{[()()]}}\"))\n"
      ],
      "metadata": {
        "colab": {
          "base_uri": "https://localhost:8080/"
        },
        "id": "DTO0LTInSu1P",
        "outputId": "155e692f-1cde-4630-dcbe-ead44cdf9598"
      },
      "execution_count": null,
      "outputs": [
        {
          "output_type": "stream",
          "name": "stdout",
          "text": [
            "()   True\n",
            "{{[()()]}}   True\n"
          ]
        }
      ]
    },
    {
      "cell_type": "code",
      "source": [
        "'''\n",
        "Extended version of Paranthesis Matching Validation Problem\n",
        "\n",
        "to check a random string which might contain any characters, contains the matching brackets.\n",
        "'''\n",
        "\n",
        "class Solution():\n",
        "  def isValid(self,s:str) -> bool:\n",
        "    ## directory to hold the valid and mapping of closing paranthesis to the opening brackets.\n",
        "    bracket_map = {\n",
        "                  \")\":\"(\",\n",
        "                  \"]\":\"[\",\n",
        "                  \"}\":\"{\"\n",
        "    }\n",
        "\n",
        "    ## stack holding all opening brackets, ready to be validated against.\n",
        "    stack = []\n",
        "\n",
        "    for char in s:\n",
        "      ## if the character is a closing bracket\n",
        "      if char in bracket_map:\n",
        "        if stack:\n",
        "          top_element = stack.pop()\n",
        "        else:\n",
        "          top_element = '#'\n",
        "        ## check if the closing bracket is matching with the top element popped from the stack\n",
        "        if bracket_map[char] != top_element:\n",
        "          return False\n",
        "\n",
        "      ## push the opening brackets to the stack\n",
        "      elif char in ['(','[','{']:\n",
        "        stack.append(char)\n",
        "\n",
        "    ## return True if stack is empty, otherwise return False\n",
        "    return not stack\n",
        "\n"
      ],
      "metadata": {
        "id": "NRNvnWGqSvB7"
      },
      "execution_count": null,
      "outputs": []
    },
    {
      "cell_type": "code",
      "source": [
        "## test cases\n",
        "solution = Solution()\n",
        "print(\"(sss)  \",solution.isValid(\"(sss)\"))\n",
        "print(\"{{[fffss)(er3)56]}}  \", solution.isValid(\"{{[fffss)(er3)56]}}\"))"
      ],
      "metadata": {
        "colab": {
          "base_uri": "https://localhost:8080/"
        },
        "id": "TiOVCt_-Wsu_",
        "outputId": "8e18ab89-4f3d-41d2-9c34-fe5042055abd"
      },
      "execution_count": null,
      "outputs": [
        {
          "output_type": "stream",
          "name": "stdout",
          "text": [
            "(sss)   True\n",
            "{{[fffss)(er3)56]}}   False\n"
          ]
        }
      ]
    },
    {
      "cell_type": "code",
      "source": [
        "result = []\n",
        "\n",
        "def backtrack(s='',left=0,right=0):\n",
        "  if len(s) == 8:\n",
        "    result.append(s)\n",
        "    return\n",
        "  if left < 4:\n",
        "    backtrack(s+'(',left+1, right)\n",
        "  if right < left:\n",
        "    backtrack(s+')',left, right+1)\n",
        "\n",
        "backtrack()\n",
        "print(result)"
      ],
      "metadata": {
        "colab": {
          "base_uri": "https://localhost:8080/"
        },
        "id": "rVo4sbDTgDMg",
        "outputId": "22b732b5-2498-4510-a896-427c4aabcd81"
      },
      "execution_count": null,
      "outputs": [
        {
          "output_type": "stream",
          "name": "stdout",
          "text": [
            "['(((())))', '((()()))', '((())())', '((()))()', '(()(()))', '(()()())', '(()())()', '(())(())', '(())()()', '()((()))', '()(()())', '()(())()', '()()(())', '()()()()']\n"
          ]
        }
      ]
    },
    {
      "cell_type": "code",
      "source": [
        "'''\n",
        "\n",
        "Linked Nodes List Problem\n",
        "\n",
        "Swap every two adjacent noded in a linked list.\n",
        "\n",
        "'''\n",
        "\n",
        "from typing import Optional\n",
        "\n",
        "##Definition for singly-linked list.\n",
        "class ListNode:\n",
        "    def __init__(self, val=0, next=None):\n",
        "        self.val = val\n",
        "        self.next = next\n",
        "\n",
        "\n",
        "class Solution:\n",
        "    def swapPairs(self, head: Optional[ListNode]) -> Optional[ListNode]:\n",
        "\n",
        "      dummy = ListNode(-1)\n",
        "\n",
        "      pre_node = dummy\n",
        "\n",
        "      pre_node.next = head\n",
        "\n",
        "      while head and head.next:\n",
        "        ## loop while head and head.next not null\n",
        "        first = head\n",
        "        second = head.next\n",
        "\n",
        "        ## swap two nodes\n",
        "        pre_node.next = second\n",
        "        first.next = second.next\n",
        "        second.next = first\n",
        "\n",
        "        # reinitializing the pre_node and head\n",
        "        pre_node = first\n",
        "        head = first.next\n",
        "\n",
        "      return dummy.next\n",
        "\n",
        "\n",
        "\n",
        "\n",
        "\n"
      ],
      "metadata": {
        "id": "PBVSbWkWgDUA"
      },
      "execution_count": null,
      "outputs": []
    },
    {
      "cell_type": "code",
      "source": [
        "## test case\n",
        "\n",
        "head = create_linked_list([1,2,3,4,5,6])\n",
        "solution = Solution()\n",
        "new_head = solution.swapPairs(head)\n",
        "print_linked_list(new_head)\n"
      ],
      "metadata": {
        "colab": {
          "base_uri": "https://localhost:8080/"
        },
        "id": "ccl9vDTKccJj",
        "outputId": "0a93d684-639f-40e4-ce71-6fd54987361f"
      },
      "execution_count": null,
      "outputs": [
        {
          "output_type": "stream",
          "name": "stdout",
          "text": [
            "2 ->1 ->4 ->3 ->6 ->5 ->None\n"
          ]
        }
      ]
    },
    {
      "cell_type": "code",
      "source": [
        "'''\n",
        "Remove duplicated elements from a sorted array.\n",
        "\n",
        "2 pointer approach.\n",
        "\n",
        "'''\n",
        "\n",
        "from typing import List\n",
        "\n",
        "class Solution:\n",
        "    def removeDuplicates(self, nums: List[int]) -> int:\n",
        "      ## if nums is None or null, return 0\n",
        "      if not nums:\n",
        "        return 0\n",
        "\n",
        "      '''\n",
        "      what we are going to achieve here is to overwrite the list nums to make sure the first\n",
        "      k elements are all unique elements, k is the number of total unique elements of the list.\n",
        "      - we will overwrite the list one by one to put all k unique elements in the first k positions.\n",
        "      - two pointer approach here means:\n",
        "        - one pointer i: iterate through the whole list, i is the index of list to iterate through the whole list\n",
        "        - another pointer k: position of the list to put the kth unqiue element in the nums list\n",
        "\n",
        "      '''\n",
        "      ## the first element is ALWAYS unique, no need to re-write for the first element\n",
        "      k = 1\n",
        "\n",
        "      ## nums[0] = nums[0] keep it as it is for the first element, no need to re-write\n",
        "      ## k pointer starting from 1.\n",
        "      for i in range(1,len(nums)):\n",
        "        if nums[i] != nums[i-1]:\n",
        "          nums[k] = nums[i]\n",
        "          k += 1\n",
        "\n",
        "      return k\n",
        "\n",
        "\n",
        "\n",
        "\n"
      ],
      "metadata": {
        "id": "iz5K8iCnccbO"
      },
      "execution_count": null,
      "outputs": []
    },
    {
      "cell_type": "code",
      "source": [
        "solution = Solution()\n",
        "\n",
        "nums = [1,2,3,4,5,5,5,6,7]\n",
        "\n",
        "k = solution.removeDuplicates(nums)\n"
      ],
      "metadata": {
        "id": "rcsQelctOV8v"
      },
      "execution_count": null,
      "outputs": []
    },
    {
      "cell_type": "code",
      "source": [
        "for i in range(1,len(nums)):\n",
        "  print(i)"
      ],
      "metadata": {
        "id": "_Svm1nGqOWCJ",
        "colab": {
          "base_uri": "https://localhost:8080/"
        },
        "outputId": "c7b5c83d-8e3e-4369-852a-488ce6054d91"
      },
      "execution_count": null,
      "outputs": [
        {
          "output_type": "stream",
          "name": "stdout",
          "text": [
            "1\n",
            "2\n",
            "3\n",
            "4\n",
            "5\n",
            "6\n",
            "7\n",
            "8\n"
          ]
        }
      ]
    },
    {
      "cell_type": "code",
      "source": [
        "'''\n",
        "Remove element.\n",
        "\n",
        "Two pointer approach:\n",
        "- one pointer pointing to the i: which is the index of the list, to iterate through all elements of the list\n",
        "- the other pointer is k: which is the position/index which used to rewrite the value which is not equal to val.\n",
        "\n",
        "'''\n",
        "from typing import List\n",
        "class Solution:\n",
        "    def removeElement(self, nums: List[int], val: int) -> int:\n",
        "      ## if nums is None or null.\n",
        "      if not nums:\n",
        "        return 0\n",
        "\n",
        "      k = 0\n",
        "\n",
        "      for i in nums:\n",
        "        if i != val:\n",
        "          nums[k] = i\n",
        "          k += 1\n",
        "\n",
        "      return k\n",
        "\n",
        "\n"
      ],
      "metadata": {
        "id": "ltlt3JybOWKX"
      },
      "execution_count": 1,
      "outputs": []
    },
    {
      "cell_type": "code",
      "source": [
        "## test case\n",
        "nums = [1,2,4,2,4,6,8,4,5,6]\n",
        "val = 4\n",
        "solution = Solution()\n",
        "k = solution.removeElement(nums,val)\n",
        "print(k)\n",
        "print(nums)"
      ],
      "metadata": {
        "id": "uuLPgZvCOWS3",
        "colab": {
          "base_uri": "https://localhost:8080/"
        },
        "outputId": "1e50c0bf-1ca1-4716-b640-43389745d072"
      },
      "execution_count": 2,
      "outputs": [
        {
          "output_type": "stream",
          "name": "stdout",
          "text": [
            "7\n",
            "[1, 2, 2, 6, 8, 5, 6, 4, 5, 6]\n"
          ]
        }
      ]
    },
    {
      "cell_type": "code",
      "source": [
        "'''\n",
        "Occurence in a string\n",
        "\n",
        "sliding window function:\n",
        "l,r are used to position the left end and right end index of the sliding window\n",
        "- every time a char match, the right position r will increase by 1\n",
        "- every time a char doesn't match, the left position l will increase by 1\n",
        "'''\n",
        "\n",
        "class Solution:\n",
        "    def strStr(self, haystack: str, needle: str) -> int:\n",
        "\n",
        "      l = r = 0\n",
        "\n",
        "      while r < len(haystack):\n",
        "        i = 0\n",
        "        while i < len(needle) & r < len(haystack):\n",
        "          if needle[i] == haystack[r]:\n",
        "            r = r+1\n",
        "            i = i+1\n",
        "          else:\n",
        "            l= l+1\n",
        "            r = l\n",
        "            break\n",
        "\n",
        "          if i == len(needle):\n",
        "            return l\n",
        "\n",
        "      return -1\n",
        "\n"
      ],
      "metadata": {
        "id": "NyoXf_xIbLeU"
      },
      "execution_count": 3,
      "outputs": []
    },
    {
      "cell_type": "code",
      "source": [
        "solution = Solution()\n",
        "k = solution.strStr('saaaaaagdgfsadjldsad','sad')\n",
        "print(k)"
      ],
      "metadata": {
        "colab": {
          "base_uri": "https://localhost:8080/"
        },
        "id": "JwIRreZ2v7la",
        "outputId": "1ecc009e-3abe-4556-eb66-f0527f95ef74"
      },
      "execution_count": 4,
      "outputs": [
        {
          "output_type": "stream",
          "name": "stdout",
          "text": [
            "11\n"
          ]
        }
      ]
    },
    {
      "cell_type": "code",
      "source": [
        "'''\n",
        "Alternate solution of apply sliding window.\n",
        "- i is used to position the haystack string index,\n",
        "- i+j, j are used to position the index of haystack, and needle respectively\n",
        "- one improvement here is regarding i:\n",
        "    - no need to iterate through from the first to the last char of the haystack string,\n",
        "    - instead when the remaining length is less than the length of needle no need to iterate further.\n",
        "\n",
        "'''\n",
        "\n",
        "class Solution:\n",
        "    def strStr(self, haystack: str, needle: str) -> int:\n",
        "\n",
        "      ## if needle is None or null string, return 0\n",
        "      if not needle:\n",
        "        return 0\n",
        "\n",
        "      ## if needle is not None or null string, applying sliding window function\n",
        "      haystack_len = len(haystack)\n",
        "      needle_len = len(needle)\n",
        "      for i in range(haystack_len - needle_len +1):\n",
        "\n",
        "        match_found = True\n",
        "\n",
        "        for j in range(needle_len):\n",
        "          if haystack[i+j] != needle[j]:\n",
        "            match_found = False\n",
        "            break\n",
        "\n",
        "        if match_found:\n",
        "          return i\n",
        "\n",
        "      return -1\n"
      ],
      "metadata": {
        "id": "vnhdOzrZwLKE"
      },
      "execution_count": 6,
      "outputs": []
    },
    {
      "cell_type": "code",
      "source": [
        "solution = Solution()\n",
        "k = solution.strStr('saaaaaagdgfsadjldsad','sad')\n",
        "print(k)"
      ],
      "metadata": {
        "colab": {
          "base_uri": "https://localhost:8080/"
        },
        "id": "S4-fYKPZ3N4r",
        "outputId": "58101a3e-7b45-432b-8f52-fedb9aaa6633"
      },
      "execution_count": 7,
      "outputs": [
        {
          "output_type": "stream",
          "name": "stdout",
          "text": [
            "11\n"
          ]
        }
      ]
    }
  ]
}